{
  "nbformat": 4,
  "nbformat_minor": 0,
  "metadata": {
    "colab": {
      "name": "7600_preprocessing_0829.ipynb",
      "provenance": [],
      "collapsed_sections": []
    },
    "kernelspec": {
      "name": "python3",
      "display_name": "Python 3"
    },
    "language_info": {
      "name": "python"
    }
  },
  "cells": [
    {
      "cell_type": "code",
      "metadata": {
        "id": "4vHhgK7-b23t"
      },
      "source": [
        "import pandas as pd\n",
        "import jieba"
      ],
      "execution_count": null,
      "outputs": []
    },
    {
      "cell_type": "code",
      "metadata": {
        "colab": {
          "base_uri": "https://localhost:8080/"
        },
        "id": "Ss9JyhaCcB5z",
        "outputId": "4bba001b-4e79-4fbd-b8c0-22fd3e76bb94"
      },
      "source": [
        "from google.colab import drive\n",
        "\n",
        "drive.mount('/content/drive')  ## https://blog.csdn.net/sdaujz/article/details/106531632\n",
        "                 ## https://blog.csdn.net/sdaujz/article/details/106531632\n"
      ],
      "execution_count": null,
      "outputs": [
        {
          "output_type": "stream",
          "name": "stdout",
          "text": [
            "Mounted at /content/drive\n"
          ]
        }
      ]
    },
    {
      "cell_type": "code",
      "metadata": {
        "colab": {
          "base_uri": "https://localhost:8080/"
        },
        "id": "z7UueBCOcLYP",
        "outputId": "4d096951-d475-406f-b6d7-69a8eefa8887"
      },
      "source": [
        "cd /content/drive/MyDrive/Capstone_Project/data"
      ],
      "execution_count": null,
      "outputs": [
        {
          "output_type": "stream",
          "name": "stdout",
          "text": [
            "/content/drive/MyDrive/Capstone_Project/data\n"
          ]
        }
      ]
    },
    {
      "cell_type": "code",
      "metadata": {
        "colab": {
          "base_uri": "https://localhost:8080/",
          "height": 536
        },
        "id": "P6l1sRotcoDl",
        "outputId": "cd685567-3b2a-41f8-ea29-ef599058c425"
      },
      "source": [
        "data = pd.read_csv(\"0827_Cecilia.csv\")\n",
        "data.head(3)"
      ],
      "execution_count": null,
      "outputs": [
        {
          "output_type": "execute_result",
          "data": {
            "text/html": [
              "<div>\n",
              "<style scoped>\n",
              "    .dataframe tbody tr th:only-of-type {\n",
              "        vertical-align: middle;\n",
              "    }\n",
              "\n",
              "    .dataframe tbody tr th {\n",
              "        vertical-align: top;\n",
              "    }\n",
              "\n",
              "    .dataframe thead th {\n",
              "        text-align: right;\n",
              "    }\n",
              "</style>\n",
              "<table border=\"1\" class=\"dataframe\">\n",
              "  <thead>\n",
              "    <tr style=\"text-align: right;\">\n",
              "      <th></th>\n",
              "      <th>Unnamed: 0</th>\n",
              "      <th>Unnamed: 0.1</th>\n",
              "      <th>URL</th>\n",
              "      <th>Stock_ID</th>\n",
              "      <th>Stock_Name</th>\n",
              "      <th>Publish Time</th>\n",
              "      <th>Title</th>\n",
              "      <th>Article</th>\n",
              "      <th>doc_Jieba</th>\n",
              "      <th>Stock_ID_1</th>\n",
              "      <th>date</th>\n",
              "      <th>close_price</th>\n",
              "      <th>tech_mfi</th>\n",
              "      <th>MACD</th>\n",
              "      <th>BIAS</th>\n",
              "      <th>KDJ</th>\n",
              "      <th>MA</th>\n",
              "      <th>volume</th>\n",
              "      <th>amt</th>\n",
              "      <th>pct_chg</th>\n",
              "      <th>swing</th>\n",
              "      <th>open</th>\n",
              "    </tr>\n",
              "  </thead>\n",
              "  <tbody>\n",
              "    <tr>\n",
              "      <th>0</th>\n",
              "      <td>0</td>\n",
              "      <td>0</td>\n",
              "      <td>http://finance.sina.com.cn/stock/s/2018-11-20/...</td>\n",
              "      <td>['stock_sh600783']</td>\n",
              "      <td>['鲁信创投']</td>\n",
              "      <td>2018年11月20日 16:50</td>\n",
              "      <td>鲁信创投提示风险：最新动态市盈率已为1244倍</td>\n",
              "      <td>['  新浪财经讯11月20日消息,鲁信创投提示风险:公司对应2017年每股收益的市盈率为4...</td>\n",
              "      <td>[\"'\", '新浪', '财经', '讯', '11', '月', '20', '日', '...</td>\n",
              "      <td>600783.SH</td>\n",
              "      <td>2018-11-20</td>\n",
              "      <td>23.44</td>\n",
              "      <td>72.1422524509452</td>\n",
              "      <td>3.1928700962990195</td>\n",
              "      <td>0</td>\n",
              "      <td>0</td>\n",
              "      <td>0</td>\n",
              "      <td>95125249.0</td>\n",
              "      <td>2.236565e+09</td>\n",
              "      <td>1.868753</td>\n",
              "      <td>9.213385</td>\n",
              "      <td>23.01</td>\n",
              "    </tr>\n",
              "    <tr>\n",
              "      <th>1</th>\n",
              "      <td>1</td>\n",
              "      <td>1</td>\n",
              "      <td>https://finance.sina.com.cn/stock/s/2021-07-26...</td>\n",
              "      <td>['stock_sz002496']</td>\n",
              "      <td>['ST辉丰']</td>\n",
              "      <td>2021年07月26日 17:32</td>\n",
              "      <td>辉丰股份索赔案已有胜诉判决 受损投资者可继续加入索赔</td>\n",
              "      <td>['  受损股民可至新浪股民维权平台登记该公司维权:http://wq.finance.si...</td>\n",
              "      <td>[\"'\", '受损', '股民', '可至', '新浪', '股民', '维权', '平台'...</td>\n",
              "      <td>002496.SZ</td>\n",
              "      <td>2021-07-26</td>\n",
              "      <td>2.82</td>\n",
              "      <td>56.32324980310697</td>\n",
              "      <td>-0.044984413032010284</td>\n",
              "      <td>0</td>\n",
              "      <td>0</td>\n",
              "      <td>0</td>\n",
              "      <td>18595408.0</td>\n",
              "      <td>5.217624e+07</td>\n",
              "      <td>4.832714</td>\n",
              "      <td>6.319703</td>\n",
              "      <td>2.69</td>\n",
              "    </tr>\n",
              "    <tr>\n",
              "      <th>2</th>\n",
              "      <td>2</td>\n",
              "      <td>2</td>\n",
              "      <td>https://finance.sina.com.cn/money/fund/jjzl/20...</td>\n",
              "      <td>['stock_sz300814']</td>\n",
              "      <td>['中富电路']</td>\n",
              "      <td>2021年08月11日 22:09</td>\n",
              "      <td>视频直播 | 中富电路8月12日深交所上市仪式</td>\n",
              "      <td>['中富电路新股发行上市仪式', '08月12日09:00-09:30', '中富电路新股发...</td>\n",
              "      <td>[\"'\", '中富', '电路', '新股', '发行', '上市', '仪式', \"'\",...</td>\n",
              "      <td>300814.SZ</td>\n",
              "      <td>2021-08-11</td>\n",
              "      <td>NaN</td>\n",
              "      <td>NaN</td>\n",
              "      <td>NaN</td>\n",
              "      <td>0</td>\n",
              "      <td>0</td>\n",
              "      <td>0</td>\n",
              "      <td>NaN</td>\n",
              "      <td>NaN</td>\n",
              "      <td>NaN</td>\n",
              "      <td>NaN</td>\n",
              "      <td>NaN</td>\n",
              "    </tr>\n",
              "  </tbody>\n",
              "</table>\n",
              "</div>"
            ],
            "text/plain": [
              "   Unnamed: 0  Unnamed: 0.1  ...     swing   open\n",
              "0           0             0  ...  9.213385  23.01\n",
              "1           1             1  ...  6.319703   2.69\n",
              "2           2             2  ...       NaN    NaN\n",
              "\n",
              "[3 rows x 22 columns]"
            ]
          },
          "metadata": {},
          "execution_count": 7
        }
      ]
    },
    {
      "cell_type": "code",
      "metadata": {
        "colab": {
          "base_uri": "https://localhost:8080/",
          "height": 53
        },
        "id": "Cj8aDj-xcthT",
        "outputId": "adfacef9-d78e-408f-deb4-3d4d0d2451ce"
      },
      "source": [
        "data['Article'][0]"
      ],
      "execution_count": null,
      "outputs": [
        {
          "output_type": "execute_result",
          "data": {
            "application/vnd.google.colaboratory.intrinsic+json": {
              "type": "string"
            },
            "text/plain": [
              "\"['  新浪财经讯11月20日消息,鲁信创投提示风险:公司对应2017年每股收益的市盈率为404倍,最新动态市盈率为1244倍,远高于金融业行业最新动态市盈率,请广大投资者注意投资风险。']\""
            ]
          },
          "metadata": {},
          "execution_count": 14
        }
      ]
    },
    {
      "cell_type": "code",
      "metadata": {
        "colab": {
          "base_uri": "https://localhost:8080/"
        },
        "id": "uewvNFrPc1w_",
        "outputId": "9cca1bde-faa3-44d9-9736-9927125086b5"
      },
      "source": [
        "# jieba分词的demo【可跳过直接下一步】\n",
        "import jieba\n",
        "# 载入自定义词库（比如：所有股票名称/代码\n",
        "# jieba.load_userdict(\"./dict/jieba_dict.txt\")\n",
        "\n",
        "jieba.enable_paddle()# 启动paddle模式。 0.40版之后开始支持，早期版本不支持\n",
        "\n",
        "seg_list = jieba.cut(\"我来到北京清华大学\",use_paddle=True) # 使用paddle模式\n",
        "print(\"Paddle Mode: \" + '/'.join(list(seg_list)))\n",
        "\n",
        "seg_list = jieba.cut(\"我来到北京清华大学\", cut_all=True)\n",
        "print(\"Full Mode: \" + \"/ \".join(seg_list))  # 全模式\n",
        "\n",
        "seg_list = jieba.cut(\"我来到北京清华大学\", cut_all=False)\n",
        "print(\"Default Mode: \" + \"/ \".join(seg_list))  # 精确模式\n",
        "\n",
        "seg_list = jieba.cut(\"他来到了网易杭研大厦\")  # 默认是精确模式\n",
        "print(\", \".join(seg_list))\n",
        "\n",
        "seg_list = jieba.cut_for_search(\"小明硕士毕业于中国科学院计算所，后在日本京都大学深造\")  # 搜索引擎模式\n",
        "print(\", \".join(seg_list))"
      ],
      "execution_count": null,
      "outputs": [
        {
          "output_type": "stream",
          "text": [
            "Paddle enabled successfully......\n",
            "Building prefix dict from the default dictionary ...\n",
            "Loading model from cache /tmp/jieba.cache\n"
          ],
          "name": "stderr"
        },
        {
          "output_type": "stream",
          "text": [
            "Paddle Mode: 我/来到/北京清华大学\n"
          ],
          "name": "stdout"
        },
        {
          "output_type": "stream",
          "text": [
            "Loading model cost 0.838 seconds.\n",
            "Prefix dict has been built successfully.\n"
          ],
          "name": "stderr"
        },
        {
          "output_type": "stream",
          "text": [
            "Full Mode: 我/ 来到/ 北京/ 清华/ 清华大学/ 华大/ 大学\n",
            "Default Mode: 我/ 来到/ 北京/ 清华大学\n",
            "他, 来到, 了, 网易, 杭研, 大厦\n",
            "小明, 硕士, 毕业, 于, 中国, 科学, 学院, 科学院, 中国科学院, 计算, 计算所, ，, 后, 在, 日本, 京都, 大学, 日本京都大学, 深造\n"
          ],
          "name": "stdout"
        }
      ]
    },
    {
      "cell_type": "code",
      "metadata": {
        "colab": {
          "base_uri": "https://localhost:8080/"
        },
        "id": "A3aToOqpTOru",
        "outputId": "53fed4e7-eaf8-4cd9-c0ae-e6b57f86ee41"
      },
      "source": [
        "# 缺失值处理\n",
        "# 缺失值查找与填充：https://blog.csdn.net/qq_28811329/article/details/82821971?utm_medium=distribute.pc_relevant_t0.none-task-blog-2%7Edefault%7EBlogCommendFromMachineLearnPai2%7Edefault-1.control&depth_1-utm_source=distribute.pc_relevant_t0.none-task-blog-2%7Edefault%7EBlogCommendFromMachineLearnPai2%7Edefault-1.control\n",
        "import math \n",
        "# 删除含有缺失值的行：https://blog.csdn.net/Guo_ya_nan/article/details/81042882 或者 https://www.delftstack.com/zh/howto/python-pandas/pandas-drop-rows-with-nan/#:~:text=Pandas%20%E4%BD%BF%E7%94%A8%20DataFrame.dropna%20%28%29%20%E6%96%B9%E6%B3%95%E5%8F%AA%E5%88%A0%E9%99%A4%E6%89%80%E6%9C%89%E5%88%97%E9%83%BD%E6%98%AF%20NaN%20%E5%80%BC%E7%9A%84%E8%A1%8C.%20%E5%AE%83%E5%8F%AA%E5%88%A0%E9%99%A4,%E6%88%91%E4%BB%AC%E5%9C%A8%20dropna%20%28%29%20%E6%96%B9%E6%B3%95%E4%B8%AD%E8%AE%BE%E7%BD%AE%20how%3D%27all%27%20%EF%BC%8C%E8%AE%A9%E8%AF%A5%E6%96%B9%E6%B3%95%E5%8F%AA%E5%9C%A8%E8%A1%8C%E7%9A%84%E6%89%80%E6%9C%89%E5%88%97%E5%80%BC%E9%83%BD%E6%98%AF%20NaN%20%E6%97%B6%E6%89%8D%E5%88%A0%E9%99%A4%E8%A1%8C%E3%80%82.\n",
        "data_copy = data.copy()\n",
        "data_copy.dropna(axis=0, how='any', inplace=True)\n",
        "print(\"删除前：\",len(data))\n",
        "print(\"删除后：\",len(data_copy))\n",
        "# 删除目标值Y（pct_chg）缺失的行\n",
        "def is_not_nan(x):\n",
        "  return not math.isnan(x)\n",
        "data_copy = data_copy[data_copy['pct_chg'].map(is_not_nan)]\n",
        "print(\"删除前：\",len(data))\n",
        "print(\"删除后：\",len(data_copy))\n",
        "\n",
        "data = data_copy.reset_index()\n"
      ],
      "execution_count": null,
      "outputs": [
        {
          "output_type": "stream",
          "name": "stdout",
          "text": [
            "删除前： 7239\n",
            "删除后： 5885\n",
            "删除前： 7239\n",
            "删除后： 5885\n"
          ]
        }
      ]
    },
    {
      "cell_type": "code",
      "metadata": {
        "colab": {
          "base_uri": "https://localhost:8080/",
          "height": 440
        },
        "id": "l9_4xbMlcNV9",
        "outputId": "100a8810-f81e-49be-fe44-7900090e8e6b"
      },
      "source": [
        "#删除固定banner位\n",
        "for i in range(0,len(data)):\n",
        "    if '金麒麟' in data['Article'][i]:\n",
        "        data['Article'][i] = data['Article'][i][40:9999999]\n",
        "\n",
        "#删除Y（pct_chg）缺失的行\n",
        "\n",
        "\n",
        "def getJiebaList(x):\n",
        "  # 对字符串'['string1','string2']'结巴分词¶，得到list：[[string1 word],[string2 word]]\n",
        "  result = []\n",
        "  y = x.strip(\"[\").strip(\"]\").split(\", \")\n",
        "  for string in y:\n",
        "    tmp = \" \".join(jieba.cut(string.strip(\"\\'\").strip('\\\\u3000\\\\u3000').strip('\\u3000\\u3000'))).split()\n",
        "    result.append(tmp)\n",
        "  return result\n",
        "\n",
        "def transListsToList(x):\n",
        "  # 将包含多个lists的list x合并为1个list(即一篇文章的词汇存在1个list中)\n",
        "  return [i for p in x for i in p]\n",
        "\n",
        "\n",
        "data['doc_Jieba_List']=data.Article.apply(getJiebaList)\n",
        "data['doc_Jieba']=data.doc_Jieba_List.apply(transListsToList)\n",
        "data.head(1)"
      ],
      "execution_count": null,
      "outputs": [
        {
          "output_type": "stream",
          "name": "stderr",
          "text": [
            "/usr/local/lib/python3.7/dist-packages/ipykernel_launcher.py:4: SettingWithCopyWarning: \n",
            "A value is trying to be set on a copy of a slice from a DataFrame\n",
            "\n",
            "See the caveats in the documentation: https://pandas.pydata.org/pandas-docs/stable/user_guide/indexing.html#returning-a-view-versus-a-copy\n",
            "  after removing the cwd from sys.path.\n",
            "Building prefix dict from the default dictionary ...\n",
            "Dumping model to file cache /tmp/jieba.cache\n",
            "Loading model cost 1.025 seconds.\n",
            "Prefix dict has been built successfully.\n"
          ]
        },
        {
          "output_type": "execute_result",
          "data": {
            "text/html": [
              "<div>\n",
              "<style scoped>\n",
              "    .dataframe tbody tr th:only-of-type {\n",
              "        vertical-align: middle;\n",
              "    }\n",
              "\n",
              "    .dataframe tbody tr th {\n",
              "        vertical-align: top;\n",
              "    }\n",
              "\n",
              "    .dataframe thead th {\n",
              "        text-align: right;\n",
              "    }\n",
              "</style>\n",
              "<table border=\"1\" class=\"dataframe\">\n",
              "  <thead>\n",
              "    <tr style=\"text-align: right;\">\n",
              "      <th></th>\n",
              "      <th>index</th>\n",
              "      <th>Unnamed: 0</th>\n",
              "      <th>Unnamed: 0.1</th>\n",
              "      <th>URL</th>\n",
              "      <th>Stock_ID</th>\n",
              "      <th>Stock_Name</th>\n",
              "      <th>Publish Time</th>\n",
              "      <th>Title</th>\n",
              "      <th>Article</th>\n",
              "      <th>doc_Jieba</th>\n",
              "      <th>Stock_ID_1</th>\n",
              "      <th>date</th>\n",
              "      <th>close_price</th>\n",
              "      <th>tech_mfi</th>\n",
              "      <th>MACD</th>\n",
              "      <th>BIAS</th>\n",
              "      <th>KDJ</th>\n",
              "      <th>MA</th>\n",
              "      <th>volume</th>\n",
              "      <th>amt</th>\n",
              "      <th>pct_chg</th>\n",
              "      <th>swing</th>\n",
              "      <th>open</th>\n",
              "      <th>doc_Jieba_List</th>\n",
              "    </tr>\n",
              "  </thead>\n",
              "  <tbody>\n",
              "    <tr>\n",
              "      <th>0</th>\n",
              "      <td>0</td>\n",
              "      <td>0</td>\n",
              "      <td>0</td>\n",
              "      <td>http://finance.sina.com.cn/stock/s/2018-11-20/...</td>\n",
              "      <td>['stock_sh600783']</td>\n",
              "      <td>['鲁信创投']</td>\n",
              "      <td>2018年11月20日 16:50</td>\n",
              "      <td>鲁信创投提示风险：最新动态市盈率已为1244倍</td>\n",
              "      <td>['  新浪财经讯11月20日消息,鲁信创投提示风险:公司对应2017年每股收益的市盈率为4...</td>\n",
              "      <td>[新浪, 财经, 讯, 11, 月, 20, 日, 消息, ,, 鲁信, 创投, 提示, 风...</td>\n",
              "      <td>600783.SH</td>\n",
              "      <td>2018-11-20</td>\n",
              "      <td>23.44</td>\n",
              "      <td>72.1422524509452</td>\n",
              "      <td>3.1928700962990195</td>\n",
              "      <td>0</td>\n",
              "      <td>0</td>\n",
              "      <td>0</td>\n",
              "      <td>95125249.0</td>\n",
              "      <td>2.236565e+09</td>\n",
              "      <td>1.868753</td>\n",
              "      <td>9.213385</td>\n",
              "      <td>23.01</td>\n",
              "      <td>[[新浪, 财经, 讯, 11, 月, 20, 日, 消息, ,, 鲁信, 创投, 提示, ...</td>\n",
              "    </tr>\n",
              "  </tbody>\n",
              "</table>\n",
              "</div>"
            ],
            "text/plain": [
              "   index  Unnamed: 0  ...   open                                     doc_Jieba_List\n",
              "0      0           0  ...  23.01  [[新浪, 财经, 讯, 11, 月, 20, 日, 消息, ,, 鲁信, 创投, 提示, ...\n",
              "\n",
              "[1 rows x 24 columns]"
            ]
          },
          "metadata": {},
          "execution_count": 9
        }
      ]
    },
    {
      "cell_type": "code",
      "metadata": {
        "colab": {
          "base_uri": "https://localhost:8080/"
        },
        "id": "vuc1MPkvm6q0",
        "outputId": "37c8cefb-c74e-42df-b4e5-0cbf4c56e552"
      },
      "source": [
        "for i in range(len(data['Article'])):\n",
        "  if '投资收益' in data['Article'][i]:\n",
        "    print(data['doc_Jieba'][i],'\\n')\n",
        "    print(data['URL'][i])\n",
        "    break\n",
        "  "
      ],
      "execution_count": null,
      "outputs": [
        {
          "output_type": "stream",
          "text": [
            "['原', '标题', ':', '云南', '城投', '上半年', '营收', '跌超', '四成', '靠', '卖', '资产', '扭亏为盈', '每经', '记者', '陈利', '每经', '编辑', '魏', '文艺', '变卖', '资产', '成为', '云南', '城投', '(', '*', 'ST', '云城', ':', '600239', ',', 'SH', ';', '昨日', '收盘价', '1.97', '元', ')', '“', '回血', '”', '的', '一贯', '操作', '。', '在', '连续', '的', '“', '卖卖', '卖', '”', '后', ',', '云南', '城投', '回笼资金', '也', '有', '了', '实质性', '进展', '。', '据', '云南', '城投', '近日', '发布', '的', '2021', '年', '半年度', '业绩', '快报', ',', '今年', '上半年', ',', '实现', '营业', '收入', '16.97', '亿元', ',', '同比', '下降', '40.07%', ';', '归属于', '上市公司', '股东', '净利润', '3.05', '亿元', ',', '而', '去年同期', '为', '-', '7.6', '亿元', '。', '持续', '“', '卖卖', '卖', '”', '对于', '已', '“', '戴帽', '”', '的', '云南', '城投', '来说', ',', '首当其冲', '仍', '是', '“', '活下去', '”', '。', '“', '卖卖', '卖', '”', '成为', '云南', '城投', '“', '回血', '”', '的', '常规', '操作', '。', '早', '在', '今年', '4', '月', '9', '日', ',', '云南', '城投', '公告', '宣布', ',', '拟以', '公开', '挂牌', '及', '非', '公开', '协议', '转让', '的', '方式', '对外', '出售', '城', '投置', '地', '、', '安盛', '创享', '、', '民生', '喜神', '等', '20', '家', '下属', '公司', '股权', '。', '截至', '2020', '年', '12', '月', '31', '日', ',', '这', '20', '家', '标的', '股权', '资产', '总额', '195.65', '亿元', ',', '资产', '净额', '-', '22.96', '亿元', '。', '为', '尽快', '从', '不良资产', '中', '脱身', ',', '在', '上述', '公告', '发出', '20', '天后', ',', '云南', '城投', '召开', '第九届', '董事会', '第八次', '会议', ',', '审议', '通过', '了', '《', '重大', '资产', '出售', '暨', '关联', '交易', '预案', '》', '等', '相关', '议案', ',', '拟', '通过', '云交所', '公开', '挂牌', '方式', '出售', '苍南', '银泰', '、', '杭州', '海威', '等', '11', '家', '子公司', '股权', '。', '不到', '两个', '月', ',', '11', '家', '子公司', '股权', '均', '顺利', '出让', '。', '截至', '6', '月', '19', '日', ',', '云南', '城', '投共', '收到', '杭州', '海威', '、', '北京', '房开', '、', '苍南', '银泰', '、', '杭州', '云泰', '、', '宁波', '泰悦', '及', '平阳', '银泰', '的', '股权', '款', '19.93', '亿元', ',', '债权', '款', '93.02', '亿元', ',', '其中', '杭州', '海威', '、', '苍南', '银泰', '、', '杭州', '云泰', '、', '宁波', '泰悦', '已', '完成', '股权', '变更', '登记手续', '。', '然而', ',', '这', '并非', '终点', '。', '6', '月', '11', '日', ',', '云南', '城投', '又', '将', '16', '家', '项目', '公司', '摆上', '了', '货架', ',', '其中', '5', '家', '转让', '价仅', '“', '1', '元', '”', ',', '接盘', '方', '为', '控股', '股东', '康旅', '集团', '三级', '公司', '云南', '康启', '。', '7', '月', '9', '日', ',', '云南', '城投', '又', '以', '“', '1', '元', '”', '的', '价格', '挂牌', '了', '旗下', '云南', '艺术', '家园', '房地产', '开发', '经营', '有限公司', '(', '以下', '简称', '艺术', '家园', ')', '51%', '股权', '。', '资料', '显示', ',', '艺术', '家园', '2020', '年度', '实现', '营收', '5812.4', '万元', ',', '净亏损', '1.47', '亿元', ';', '截至', '2021', '年', '5', '月底', ',', '艺术', '家园', '总', '负债', '已经', '超过', '总资产', '5.25', '亿元', '的', '3', '倍', ',', '达到', '15.8', '亿元', '。', '公告', '显示', ',', '本次', '交易', '的', '受让方', '不仅', '需', '足额', '支付', '产权交易', '价款', ',', '还', '被', '要求', '于', '2021', '年底', '前向', '艺术', '家园', '提供', '借款', ',', '用于', '向', '其', '转让方', '及', '关联方', '清偿', '7.31', '亿元', '(', '截至', '2020', '年底', ')', '存续', '债务', '本息', ',', '此外', '的', '其他', '债权债务', '也', '将', '由', '受让方', '享受', '及', '承担', '。', '由此来看', ',', '云南', '城投', '1', '元', '转让', '艺术', '家园', '的', '真实', '目的', '一览无遗', ':', '替', '艺术', '家园', '及其', '关联方', '还清', '7.31', '亿元', '的', '存续', '债务', '本息', ',', '以及', '艺术', '家园', '欠', '云南', '城投', '的', '债务', '本息', '。', '上半年', '扭亏为盈', '持续', '的', '“', '卖卖', '卖', '”', ',', '也', '让', '云南', '城投', '资金回笼', '有', '了', '实质性', '进展', '。', '云南', '城投', '近日', '发布', '的', '2021', '年', '半年度', '业绩', '快报', '显示', ',', '上半年', '实现', '营业', '收入', '16.97', '亿元', ',', '同比', '下降', '40.07%', ';', '归属于', '上市公司', '股东', '的', '净利润', '3.05', '亿元', ',', '上年', '同期', '净利润', '为', '-', '7.6', '亿元', ',', '同比', '大幅', '增加', '。', '对于', '上述', '经营', '业绩', '变化', '的', '原因', ',', '云南', '城投', '在', '公告', '中', '表示', ',', '今年', '上半年', '达到', '竣备', '结转', '条件', '的', '房地产', '销售', '面积', '较', '去年同期', '减少', ',', '导致', '营业', '收入', '同比', '下降', '40.07%', '。', '2020', '年', '1', '月', ',', '云南', '城投', '通过', '公开', '挂牌', '转让', '的', '方式', '出售', '公司', '持有', '的', '苍南', '银泰', '置业', '有限公司', '、', '杭州', '海威', '房地产', '开发', '有限公司', '等', '11', '家', '公司', '的', '股权', ',', '截至', '2021', '年', '6', '月', '30', '日', ',', '其中', '6', '家', '公司', '的', '股权', '转让', '工作', '已', '完成', ',', '确认', '了', '投资收益', '0.95', '亿元', '。', '此外', ',', '今年', '云南', '城', '投以', '非', '公开', '协议', '转让', '及', '公开', '挂牌', '转让', '方式', '对外', '出售', '持有', '的', '云南', '城', '投置', '地', '有限公司', '、', '云南', '安盛', '创享', '企业', '管理', '有限公司', '、', '成都', '民生', '喜神', '投资', '有限公司', '等', '17', '家', '下属', '企业', '股权', '及', '份额', ',', '截至', '2021', '年', '6', '月', '30', '日', ',', '其中', '11', '家', '下属', '企业', '股权', '及', '份额', '已', '完成', '转让', ',', '确认', '了', '投资收益', '12.14', '亿元', ',', '同时', '确认', '资本', '公积', '5.81', '亿元', '。', '不过', '在', '获得', '收益', '的', '同时', ',', '资产', '转让', '事项', '也', '让', '云南', '城投', '总资产', '减少', '。', '截至', '今年', '6', '月', '30', '日', ',', '云南', '城投', '总资产', '为', '505.29', '亿元', ',', '报告期', '初', '总资产', '为', '803.37', '亿元', ',', '减少', '37.10%', '。', '此外', ',', '归母', '净资产', '增加', '18.43', '亿元', ',', '云南', '城投', '相应', '确认', '非', '经常性', '损益', '12.67', '亿元', '。', '全面', '转型', '遇阻', '尽管', '资产', '转让', '使', '公司', '得以', '短暂', '回血', ',', '但', '对于', '债台高筑', '的', '云南', '城投', '来说', ',', '显然', '还', '面临', '着', '更为', '严峻', '的', '形势', '。', '截至', '2021', '年', '一季度', ',', '云南', '城投', '流动', '负债', '超过', '656', '亿元', ',', '其中', '一年', '内', '到期', '的', '非', '流动', '负债', '逾', '122', '亿元', ',', '而', '同期', '公司', '经营', '活动', '产生', '的', '现金流量', '净额', '为', '10.46', '亿元', ',', '远', '无法', '覆盖', '其', '短期', '债务', '。', '一方面', ',', '虽然', '公司', '早', '在', '2020', '年', '就', '提出', '向', '产业', '地产商', '全面', '转型', '的', '目标', ',', '将', '依托', '集团公司', '在', '文化', '旅游', '、', '健康', '服务', '领域', '的', '优势', '资源', ',', '着力', '构建', '“', '文化', '+', '土地', '+', '开发', '”', '“', '旅游', '+', '土地', '+', '开发', '”', '及', '“', '康养', '+', '土地', '+', '开发', '”', '三大', '业务', '板块', ',', '打造', '具有', '差异化', '竞争力', '的', '综合', '服务', '运营商', '。', '然而', '一年', '多', '过去', '了', ',', '在', '云南', '城投', '尚未', '迈出', '实质性', '的', '转型', '时', ',', '其', '位于', '西双版纳', '的', '项目', '就', '因', '规划', '调整', '面临', '土地', '被', '收回', '。', '7', '月', '19', '日', ',', '云南', '城投', '发布公告', '称', ',', '公司', '于', '7', '月', '26', '日', '举办', '2021', '年', '第五次', '临时', '股东大会', ',', '审议', '《', '关于', '公司', '下属', '公司', '签订', '〈', '土地', '收储', '协议', '〉', '的', '议案', '》', '。', '公司', '旗下', '三级', '公司', '盛璟', '新城', '拟', '与', '景洪', '土储', '中心', '签订', '《', '土地', '收储', '协议', '》', ',', '同意', '景洪', '土储', '中心', '有偿', '收回', '其', '名下', '11', '宗', '土地', ',', '总面积', '为', '377.24', '亩', ',', '共', '涉及', '补偿', '价款', '2.94', '亿元', '。', '启信宝', '显示', ',', '盛璟', '新城', '成立', '于', '2009', '年', '09', '月', '02', '日', ',', '主要', '经营范围', '为', '体育', '、', '文化', '场馆', '、', '旅游', '渡假', '区', '、', '景区', '、', '景点', '、', '会', '所', '投资', '开发', ',', '销售', '等', '。', '目前', ',', '该', '收储', '事项', '已', '进入', '云南', '城投', '临时', '股东', '大会决议', '阶段', ',', '若', '议案', '通过', ',', '将', '为', '云南', '城投', '带来', '2.94', '亿元', '回笼资金', '。'] \n",
            "\n",
            "https://finance.sina.com.cn/chanjing/gsnews/2021-08-06/doc-ikqciyzk9820376.shtml\n"
          ],
          "name": "stdout"
        }
      ]
    },
    {
      "cell_type": "code",
      "metadata": {
        "id": "SxcAmbGZgvi0"
      },
      "source": [
        "def get_custom_stopwords(stop_words_file):\n",
        "    with open(stop_words_file) as f:\n",
        "        stopwords = f.read()\n",
        "    stopwords_list = stopwords.split('\\n')\n",
        "    custom_stopwords_list = [i for i in stopwords_list]\n",
        "    return custom_stopwords_list\n",
        "\n",
        "stop_words_file = './stopwords-master/哈工大停用词表.txt'\n",
        "stopwords_1 = get_custom_stopwords(stop_words_file)\n",
        "stop_words_file = './stopwords-master/中文停用词表.txt'\n",
        "stopwords_2 = get_custom_stopwords(stop_words_file)\n",
        "stop_words_file = './stopwords-master/四川大学机器智能实验室停用词库.txt'\n",
        "stopwords_3 = get_custom_stopwords(stop_words_file)\n",
        "stop_words_file = './stopwords-master/百度停用词表.txt'\n",
        "stopwords_4 = get_custom_stopwords(stop_words_file)\n",
        "stopwords=stopwords_1+stopwords_2+stopwords_3+stopwords_4\n",
        "stopwords=list(set(stopwords))\n",
        "#去重后2318个停用词\n",
        "\n",
        "def clean_stopword(x):\n",
        "    y=[]\n",
        "    for i in x:\n",
        "        if i not in stopwords:\n",
        "            y.append(i)\n",
        "    return y\n",
        "\n",
        "data['doc_Jieba_2']=data.doc_Jieba.apply(clean_stopword)"
      ],
      "execution_count": null,
      "outputs": []
    },
    {
      "cell_type": "code",
      "metadata": {
        "id": "q-LooUfOpgjY",
        "colab": {
          "base_uri": "https://localhost:8080/"
        },
        "outputId": "aeccd881-6ea2-40a1-a32f-4aadf71d0fe2"
      },
      "source": [
        "# Selecting frequently-used words：选择出现次数大于kappa的词汇（kappa为超参数），对应论文中D__freq\n",
        "## 计算包含词汇i的文章数，存在字典dict_word_ariticles中；然后计算每篇文章的词汇set set_word_ariticles，\n",
        "dict_word_ariticles = {}\n",
        "for article_list in data['doc_Jieba_2']:\n",
        "  set_word_ariticles = set(article_list)\n",
        "  for word in list(set_word_ariticles):\n",
        "    if word in dict_word_ariticles:\n",
        "      dict_word_ariticles[word] += 1\n",
        "    else:\n",
        "      dict_word_ariticles[word] = 1\n",
        "# dict_word_ariticles\n",
        "\n",
        "\n",
        "## 选择出现次数大于kappa的词汇（kappa为超参数）\n",
        "kappa = 20\n",
        "frequent_dict = [k for k, v in dict_word_ariticles.items() if v > kappa]\n",
        "\n",
        "# 词到ID的映射, 使得每个词有一个ID\n",
        "D__freq = dict(zip(frequent_dict, range(len(frequent_dict))))\n",
        "# sorted(D__freq)\n",
        "len(D__freq)"
      ],
      "execution_count": null,
      "outputs": [
        {
          "output_type": "execute_result",
          "data": {
            "text/plain": [
              "8423"
            ]
          },
          "metadata": {},
          "execution_count": 11
        }
      ]
    },
    {
      "cell_type": "code",
      "metadata": {
        "colab": {
          "base_uri": "https://localhost:8080/"
        },
        "id": "KTlAPbvnjGNy",
        "outputId": "8914dab5-3ea7-4d32-a551-254c0ba70d4d"
      },
      "source": [
        "tmp_num = 0\n",
        "for i in range(0,len(data)):\n",
        "    if '收益' in data['Article'][i]:\n",
        "        tmp_num += 1\n",
        "print(tmp_num)\n",
        "tmp_num = 0\n",
        "for i in range(0,len(data)):\n",
        "    if '收益' in data['doc_Jieba_2'][i]:\n",
        "        tmp_num += 1\n",
        "print(tmp_num)\n",
        "print(dict_word_ariticles['收益'] + dict_word_ariticles['收益率'] + dict_word_ariticles['投资收益'] + dict_word_ariticles['收益分配'] + dict_word_ariticles['经济收益'] + dict_word_ariticles['收益权'] + dict_word_ariticles['低收益'])\n",
        "for k,v in dict_word_ariticles.items():\n",
        "  if '收益' in k:\n",
        "    print(k,'\\n')\n",
        "dict_word_ariticles['收益']"
      ],
      "execution_count": null,
      "outputs": [
        {
          "output_type": "stream",
          "name": "stdout",
          "text": [
            "1479\n",
            "1291\n",
            "2275\n",
            "收益 \n",
            "\n",
            "收益率 \n",
            "\n",
            "投资收益 \n",
            "\n",
            "收益分配 \n",
            "\n",
            "经济收益 \n",
            "\n",
            "收益权 \n",
            "\n",
            "低收益 \n",
            "\n"
          ]
        },
        {
          "output_type": "execute_result",
          "data": {
            "text/plain": [
              "1291"
            ]
          },
          "metadata": {},
          "execution_count": 12
        }
      ]
    },
    {
      "cell_type": "markdown",
      "metadata": {
        "id": "J-RobVTDcK9k"
      },
      "source": [
        "### Factor modeling【todo】\n",
        "$ X = FB^T + U$\n",
        "\n",
        "### Learning factors and idiosyncratic components【todo】\n",
        "（0）求X：\n",
        "\n",
        "（1.1）指定k，求F：$F=sqrt(n)*(XX^T的最大的前k个特征值）$\n",
        "\n",
        "（1.2）求出k，再求F\n",
        "\n",
        "（2） 根据X和F，求B：$B=X^TF/n$\n",
        "\n",
        "（3）根据X，F和B，求U：$U=X-FB^T$"
      ]
    },
    {
      "cell_type": "code",
      "metadata": {
        "id": "BeAYVH1byj3b"
      },
      "source": [
        "# sorted(D__freq.items(), key=lambda item:item[1])"
      ],
      "execution_count": null,
      "outputs": []
    },
    {
      "cell_type": "code",
      "metadata": {
        "colab": {
          "base_uri": "https://localhost:8080/"
        },
        "id": "CfodLjVgmznY",
        "outputId": "375fb5da-6a77-4565-8443-3970d744d32e"
      },
      "source": [
        "# （0）求X\n",
        "from collections import Counter\n",
        "from itertools import chain\n",
        "import numpy as np\n",
        "documents = data['doc_Jieba_2']\n",
        "def word_matrix(docs, dictionary, word_num, doc_num ):\n",
        "    '''计算词频矩阵：行表示文档，列表示词语'''\n",
        "    # 词到ID的映射, 使得每个词有一个ID\n",
        "    # dictionary = dict(zip(words, range(len(words))))\n",
        "    #print(dictionary)\n",
        "    # 创建一个空的矩阵, 行数等于文档数, 列数等于词数\n",
        "    matrix = np.zeros((doc_num,  word_num))\n",
        "    # 逐个文档统计词频\n",
        "    for row in range(doc_num):  # row 表示矩阵第几行，即第几个文档\n",
        "        # 统计词频\n",
        "        count = Counter(docs[row])#其实是个词典，词典元素为：{单词：次数}。\n",
        "        for word in count:\n",
        "          if word in D__freq:\n",
        "            # 用word的id表示word在矩阵中的列数，该文档表示行数。\n",
        "            col= dictionary[word] # col表示矩阵第几列，即第几个单词\n",
        "            # 把词频赋值给矩阵\n",
        "            matrix[row,col] = count[word]\n",
        "    return matrix\n",
        " \n",
        "X = word_matrix(documents, D__freq, len(D__freq), len(documents))\n",
        "print(\"Word frequency matrix is:\",X) ## [doc_num, word_num]"
      ],
      "execution_count": null,
      "outputs": [
        {
          "output_type": "stream",
          "name": "stdout",
          "text": [
            "Word frequency matrix is: [[1. 2. 2. ... 0. 0. 0.]\n",
            " [7. 0. 0. ... 0. 0. 0.]\n",
            " [1. 0. 0. ... 0. 0. 0.]\n",
            " ...\n",
            " [0. 0. 0. ... 0. 0. 0.]\n",
            " [6. 0. 0. ... 0. 0. 0.]\n",
            " [1. 0. 0. ... 0. 0. 0.]]\n"
          ]
        }
      ]
    },
    {
      "cell_type": "code",
      "metadata": {
        "colab": {
          "base_uri": "https://localhost:8080/"
        },
        "id": "LpDiF2flmkLv",
        "outputId": "9c7b5148-f3f3-470c-f922-d59186aee7cb"
      },
      "source": [
        "# （1.1）指定k，求F：$F=sqrt(n)*(XX^T的最大的前k个特征值）$。【todo】检查下算得对不对 ；【todo】这里k是超参数\n",
        "# 【参考：https://blog.csdn.net/w450468524/article/details/54885773\n",
        "import numpy as np\n",
        "n = len(documents)\n",
        "k = 10\n",
        "\n",
        "eigenvalue, featurevector = np.linalg.eig(np.matmul(X,X.T))\n",
        "sorted_indices = np.argsort(eigenvalue)\n",
        "# 上面得到的sorted_indices就是特征值排序后的结果，巧妙的是这里是用数组下标来表示的，也就是说其中存放的是特征值由小到大的顺序排序时对应的下标[0, 4, 1, 3, 2]，而不是直接存放特征值。\n",
        "# 下一步就是取前k大的特征向量了：\n",
        "topk_evecs = featurevector[:,sorted_indices[:-k-1:-1]]\n",
        "\n",
        "F = np.sqrt(n) * topk_evecs  ## [doc_num, k]\n",
        "print(\"F = \",F)\n",
        "\n",
        "# 复数：\n",
        "# 实数部分和虚数部分都是浮点数\n",
        "# 虚数部分必须有j或J\n",
        "# 下面是些得数：\n",
        "# 64.23+1j            4.34-8.5j            0.23-8.33j            1.23e-0.45+6.5e+0.83j              -1.23-3.5j            -0.34-0j\n",
        "# 复数中的内建属性\n",
        "\n",
        "# （1.2）求出k，再求F：\n",
        "\n",
        "# （2） 根据X和F，求B：$B=X^TF/n$\n",
        "B = np.matmul(X.T,F) / n\n",
        "print(\"B =\",B)  ## [word_num, k]\n",
        "# （3）根据X，F和B，求U：$U=X-FB^T$\n",
        "U = X - np.matmul(F,B.T)\n",
        "print(\"U =\",U) ## [doc_num, word_num]"
      ],
      "execution_count": null,
      "outputs": [
        {
          "output_type": "stream",
          "name": "stdout",
          "text": [
            "F =  [[ 7.44923497e-02+0.j -4.74976451e-02+0.j -4.59551534e-02+0.j ...\n",
            "   7.82556090e-02+0.j  1.63910361e-03+0.j -9.10284751e-03+0.j]\n",
            " [ 1.02587115e+00+0.j -5.34284139e-01+0.j -7.57413329e-01+0.j ...\n",
            "   9.11532618e-01+0.j  3.19272216e-01+0.j -3.32356378e-01+0.j]\n",
            " [ 2.78399422e-01+0.j -8.73531063e-02+0.j -4.76542257e-02+0.j ...\n",
            "   2.79974362e-01+0.j  2.84119983e-02+0.j -7.28093509e-02+0.j]\n",
            " ...\n",
            " [ 1.35936911e-01+0.j -7.85675197e-02+0.j -3.70571841e-02+0.j ...\n",
            "   1.86637862e-01+0.j -1.38641848e-01+0.j  4.32531860e-02+0.j]\n",
            " [ 6.23156409e-01+0.j -4.98786043e-01+0.j -5.41208829e-01+0.j ...\n",
            "   1.02220210e+00+0.j -3.38941205e-01+0.j -4.67540973e-01+0.j]\n",
            " [ 2.15161334e+00+0.j  2.70182514e+00+0.j  6.71676352e-01+0.j ...\n",
            "  -1.05830289e-01+0.j -1.93584522e-01+0.j -9.29069900e-02+0.j]]\n",
            "B = [[ 2.75601483e+00+0.j -1.58801443e+00+0.j -1.10495044e+00+0.j ...\n",
            "   1.06971623e+00+0.j  6.36665994e-03+0.j  1.46143395e-01+0.j]\n",
            " [ 2.82895711e-02+0.j -2.17553326e-02+0.j -1.27529698e-02+0.j ...\n",
            "   1.22072574e-02+0.j -1.82526576e-02+0.j -9.81429266e-03+0.j]\n",
            " [ 2.11279146e-01+0.j -1.31385150e-01+0.j -6.86662546e-04+0.j ...\n",
            "   8.70508227e-03+0.j  7.12034374e-02+0.j -1.77406585e-04+0.j]\n",
            " ...\n",
            " [ 5.55321712e-03+0.j -4.99607259e-03+0.j -3.24714777e-03+0.j ...\n",
            "  -4.45891886e-03+0.j -6.02954044e-03+0.j -5.99727556e-03+0.j]\n",
            " [ 5.62151792e-03+0.j -5.20622115e-03+0.j -3.33731802e-03+0.j ...\n",
            "  -4.52919006e-03+0.j -6.54720018e-03+0.j -5.95206230e-03+0.j]\n",
            " [ 5.91586104e-03+0.j -5.32184123e-03+0.j -3.57482124e-03+0.j ...\n",
            "  -4.57384079e-03+0.j -6.34490146e-03+0.j -6.19478496e-03+0.j]]\n",
            "U = [[ 5.40394704e-01+0.j  1.99468598e+00+0.j  1.98341271e+00+0.j ...\n",
            "  -6.64419257e-04+0.j -6.90388567e-04+0.j -7.35677168e-04+0.j]\n",
            " [ 7.53403165e-02+0.j -3.01187864e-02+0.j -2.55935968e-01+0.j ...\n",
            "   1.46460217e-03+0.j  1.98801769e-03+0.j  1.58279517e-03+0.j]\n",
            " [-4.15943541e-01+0.j -1.10147813e-02+0.j -6.97116233e-02+0.j ...\n",
            "  -1.76162509e-04+0.j -1.27973666e-04+0.j -2.09339644e-04+0.j]\n",
            " ...\n",
            " [-4.96551174e-01+0.j -1.51232129e-02+0.j -4.27272230e-02+0.j ...\n",
            "  -2.33212539e-03+0.j -2.50758010e-03+0.j -2.55626169e-03+0.j]\n",
            " [ 6.34058899e-01+0.j -4.55465216e-02+0.j -1.15784290e-01+0.j ...\n",
            "  -3.40839395e-03+0.j -3.50298559e-03+0.j -3.71530074e-03+0.j]\n",
            " [ 3.63855071e-01+0.j -9.38376451e-03+0.j -6.06559508e-02+0.j ...\n",
            "  -1.99376960e-03+0.j -1.89798067e-03+0.j -2.15249455e-03+0.j]]\n"
          ]
        }
      ]
    },
    {
      "cell_type": "code",
      "metadata": {
        "id": "9HvhxOIggRch"
      },
      "source": [
        "word_num , doc_num = len(D__freq), len(documents)\n",
        "assert X.shape == (doc_num, word_num)\n",
        "assert F.shape == (doc_num, k)\n",
        "assert B.shape == (word_num, k)\n",
        "assert U.shape == (doc_num, word_num)\n"
      ],
      "execution_count": null,
      "outputs": []
    },
    {
      "cell_type": "markdown",
      "metadata": {
        "id": "0TtP4oiQdawG"
      },
      "source": [
        "### Learning conditional sentiment-charged words S【todo】"
      ]
    },
    {
      "cell_type": "code",
      "metadata": {
        "id": "_atrYaGsi8ey"
      },
      "source": [
        "## 对于Y缺失值，先用平均数填充，之后确定了Y，要在一开始就把包含缺失Y值的data的整行数据删除\n",
        "data.open = data.open.fillna(data.open.mean())"
      ],
      "execution_count": null,
      "outputs": []
    },
    {
      "cell_type": "code",
      "metadata": {
        "colab": {
          "base_uri": "https://localhost:8080/"
        },
        "id": "Qo25HThxj1qo",
        "outputId": "aab9d0b8-b330-4d39-aa9b-439a50db15cc"
      },
      "source": [
        "data.open"
      ],
      "execution_count": null,
      "outputs": [
        {
          "output_type": "execute_result",
          "data": {
            "text/plain": [
              "0        23.01\n",
              "1         2.69\n",
              "2       276.52\n",
              "3        39.31\n",
              "4        91.00\n",
              "         ...  \n",
              "5880     15.22\n",
              "5881     51.05\n",
              "5882     14.00\n",
              "5883      9.57\n",
              "5884      6.15\n",
              "Name: open, Length: 5885, dtype: float64"
            ]
          },
          "metadata": {},
          "execution_count": 19
        }
      ]
    },
    {
      "cell_type": "code",
      "metadata": {
        "colab": {
          "base_uri": "https://localhost:8080/"
        },
        "id": "RqNvtOgAiPKh",
        "outputId": "0a573dc7-41f6-4589-8065-46ae34fb84b1"
      },
      "source": [
        "# 1.根据Y和F做线性回归，求残差Y_u\n",
        "# 先用收盘价（open）作为Y\n",
        "from numpy import random\n",
        "Y = data.open\n",
        "# 判断F的每个复数元素是否为实数：\n",
        "assert np.all(np.imag(F)==0) #np.imag(F)：提取复数的虚部；np.real(F)：提取复数的实部 \n",
        "                      #np.any()，np.all()，来判断一个矩阵中是否有0元素或一个矩阵是否是零矩阵\n",
        "F = np.real(F)\n",
        "# 1.1.根据Y和F做线性回归，求Y_f_pred\n",
        "#【参考：https://www.cnblogs.com/learnbydoing/p/12190168.html\n",
        "from sklearn.linear_model import LinearRegression\n",
        "model_Y_f = LinearRegression()\n",
        "model_Y_f = model_Y_f.fit(F, Y) #np.real(F)：提取复数的实部\n",
        "'''\n",
        "# get result: y = b0 + b1x\n",
        "r_sq = model_Y_f.score(F, Y)\n",
        "print('coefficient of determination(𝑅²) :', r_sq)\n",
        "# coefficient of determination(𝑅²) : 0.715875613747954\n",
        "print('intercept:', model_Y_f.intercept_)\n",
        "# （标量） 系数b0 intercept: 5.633333333333329 -------this will be an array when y is also 2-dimensional\n",
        "print('slope:', model_Y_f.coef_)\n",
        "# （数组）斜率b1 slope: [0.54]        ---------this will be 2-d array when y is also 2-dimensional\n",
        "'''\n",
        "# predict response: given x, get y from the model y = b0+b1x\n",
        "Y_f_pred = model_Y_f.predict(F)\n",
        "# 1.2.求残差Y_u\n",
        "Y_u = Y - Y_f_pred\n",
        "Y_u.shape"
      ],
      "execution_count": null,
      "outputs": [
        {
          "output_type": "execute_result",
          "data": {
            "text/plain": [
              "(5885,)"
            ]
          },
          "metadata": {},
          "execution_count": 20
        }
      ]
    },
    {
      "cell_type": "code",
      "metadata": {
        "id": "Alxyehozka6q"
      },
      "source": [
        "# 2.求Y_u与U的相关系数，然后按照论文，根据$S = {j:|corr(U_j,Y_u)|>alpha & {j:k_j>=kappa}$ ，这里alpha和kappa是超参数\n",
        "#   需要注意的是：因为U_j来自于D_freq，所以已经满足{j:k_j>=kappa}了。 \n",
        "#   另外，接下来我们会直接取相关度绝对值排前alpha的U_j，所以下面出现的alpha和上述提到论文里含义稍有区别，不过作用是一样的。\n",
        "\n",
        "# 【希腊字母与英文对照：https://blog.csdn.net/bxlover007/article/details/105725593\n",
        "#【求相关系数：https://www.cnblogs.com/marszhw/p/12175454.html\n",
        "import random\n",
        "import numpy as np\n",
        "# 判断U的每个复数元素是否为实数：\n",
        "assert np.all(np.imag(U)==0) #np.imag(U)：提取复数的虚部；np.real(U)：提取复数的实部 \n",
        "                      #np.any()，np.all()，来判断一个矩阵中是否有0元素或一个矩阵是否是零矩阵\n",
        "U = np.real(U)\n",
        "corr_U_j__Y_u = np.zeros(len(D__freq))\n",
        "for j in range(len(D__freq)):\n",
        "  tmp = np.array([Y_u, U[:,j]])\n",
        "  corr_U_j__Y_u[j] = np.corrcoef(tmp)[0][1] # np.cov(tmp) # 计算协方差矩阵 ; np.corrcoef(tmp) # 计算相关系数矩阵\n",
        "corr_abs_U_j__Y_u = abs(corr_U_j__Y_u)\n",
        "# 下一步就是取前alpha大的相关度绝对值对应的U_j的下标：\n",
        "sorted_indices_U = np.argsort(corr_abs_U_j__Y_u)\n",
        "sorted_indices_U #上面得到的sorted_indices_U就是相关度绝对值排序后的结果，巧妙的是这里是用数组下标来表示的，也就是说其中存放的是相关度绝对值由小到大的顺序排序时对应的下标[0, 4, 1, 3, 2]，而不是直接存放相关度绝对值。\n",
        "# print(\"Is min equals:\",min(corr_abs_U_j__Y_u)==corr_abs_U_j__Y_u[sorted_indices_U[0]]) # 验证排序正确\n",
        "alpha = 1000\n",
        "topk_U_j = sorted_indices_U[:-alpha-1:-1]\n",
        "# 最后得到情感词汇集S\n",
        "S = [k for k,v in D__freq.items() if v in topk_U_j]"
      ],
      "execution_count": null,
      "outputs": []
    },
    {
      "cell_type": "code",
      "metadata": {
        "id": "ODrdL88uwqr2",
        "colab": {
          "base_uri": "https://localhost:8080/",
          "height": 168
        },
        "outputId": "b4b3d3ea-2d3c-42f6-bf38-fb9205e24dae"
      },
      "source": [
        "print(S)"
      ],
      "execution_count": null,
      "outputs": [
        {
          "output_type": "error",
          "ename": "NameError",
          "evalue": "ignored",
          "traceback": [
            "\u001b[0;31m---------------------------------------------------------------------------\u001b[0m",
            "\u001b[0;31mNameError\u001b[0m                                 Traceback (most recent call last)",
            "\u001b[0;32m<ipython-input-1-491d1d48403d>\u001b[0m in \u001b[0;36m<module>\u001b[0;34m()\u001b[0m\n\u001b[0;32m----> 1\u001b[0;31m \u001b[0mprint\u001b[0m\u001b[0;34m(\u001b[0m\u001b[0mS\u001b[0m\u001b[0;34m)\u001b[0m\u001b[0;34m\u001b[0m\u001b[0;34m\u001b[0m\u001b[0m\n\u001b[0m",
            "\u001b[0;31mNameError\u001b[0m: name 'S' is not defined"
          ]
        }
      ]
    },
    {
      "cell_type": "code",
      "metadata": {
        "id": "v14mVcbvkcWS",
        "colab": {
          "base_uri": "https://localhost:8080/"
        },
        "outputId": "43fb9cbb-60e0-4589-a915-030091a264ea"
      },
      "source": [
        "assert len(S) == 1000\n",
        "len(D__freq)"
      ],
      "execution_count": null,
      "outputs": [
        {
          "output_type": "execute_result",
          "data": {
            "text/plain": [
              "8423"
            ]
          },
          "metadata": {},
          "execution_count": 22
        }
      ]
    },
    {
      "cell_type": "code",
      "metadata": {
        "id": "sSKOmmbQa9A6"
      },
      "source": [
        "# 生成U_S（对应论文中U_i,S)\n",
        "U_S = U[:,topk_U_j]"
      ],
      "execution_count": null,
      "outputs": []
    },
    {
      "cell_type": "code",
      "metadata": {
        "id": "BYxjcs6Mhkc0"
      },
      "source": [
        "# 保存数据：\n",
        "np.save(\"F.npy\",F)\n",
        "np.save(\"U_S.npy\",U_S)\n",
        "np.save(\"Y.npy\",np.array(data['pct_chg']))\n",
        "\n"
      ],
      "execution_count": null,
      "outputs": []
    },
    {
      "cell_type": "code",
      "metadata": {
        "colab": {
          "base_uri": "https://localhost:8080/"
        },
        "id": "4BnoddyzptyV",
        "outputId": "7d4dbafa-d5f6-43c0-b7af-cd6049c42c58"
      },
      "source": [
        "# 读取数据\n",
        "import numpy as np\n",
        "\n",
        "F = np.load(\"F.npy\")\n",
        "U_S = np.load(\"U_S.npy\")\n",
        "Y = np.load(\"Y.npy\")\n",
        "print(\"总共有 \",len(Y),\" 条数据\")"
      ],
      "execution_count": null,
      "outputs": [
        {
          "output_type": "stream",
          "name": "stdout",
          "text": [
            "总共有  5885  条数据\n"
          ]
        }
      ]
    },
    {
      "cell_type": "code",
      "metadata": {
        "id": "Z5QzMZgQa9Ea"
      },
      "source": [
        "word_num , doc_num = len(D__freq), len(documents)\n",
        "S_word_num = len(S)\n",
        "assert X.shape == (doc_num, word_num)\n",
        "assert F.shape == (doc_num, k)\n",
        "assert B.shape == (word_num, k)\n",
        "assert U.shape == (doc_num, word_num)\n",
        "assert U_S.shape == (doc_num, S_word_num)"
      ],
      "execution_count": null,
      "outputs": []
    },
    {
      "cell_type": "code",
      "metadata": {
        "colab": {
          "base_uri": "https://localhost:8080/"
        },
        "id": "TAFuWe9da1P6",
        "outputId": "0542f2d2-4bfb-4d1b-e020-dd6ad775e736"
      },
      "source": [
        "# 模型训练\n",
        "# tf2实现线性回归：https://blog.csdn.net/Mrwxxxx/article/details/108133137\n",
        "import tensorflow as tf\n",
        "import matplotlib.pyplot as plt\n",
        "\n",
        "\n",
        "# 样本准备\n",
        "# 划分训练集和测试集\n",
        "from sklearn.model_selection import train_test_split\n",
        "test_size = 0.1\n",
        "random_state = 7600\n",
        "F_train, F_test, U_S_train, U_S_test, Y_train, Y_test= train_test_split(F, U_S, np.array(data['pct_chg']), test_size=test_size, random_state=random_state)\n",
        "# U_test.shape: (589, 8423)\n",
        "\n",
        "#参数\n",
        "a = tf.Variable(tf.zeros([1], name='a'))\n",
        "b = tf.Variable(tf.random.uniform([1,k], -1.0, 1.0), name='b')\n",
        "BETA = tf.Variable(tf.random.uniform([1,S_word_num], -1.0, 1.0), name='BETA')\n",
        "\n",
        "#需要更新的变量\n",
        "variables = [a, b, BETA]\n",
        "\n",
        "#采用梯度下降法优化参数\n",
        "#优化器\n",
        "opt = tf.keras.optimizers.SGD(1e-3)\n",
        "#迭代次数\n",
        "num_epoch = 5\n",
        "for e in range(num_epoch):\n",
        "  loss = 0\n",
        "  for i in range(len(F_train)):\n",
        "    #使用tf.GradientTape()记录损失函数的梯度信息\n",
        "    with tf.GradientTape() as tape:\n",
        "        #预测值\n",
        "        y = tf.matmul(tf.cast(b ,tf.float64),tf.expand_dims(F_train[i,:],axis=0),transpose_b=True) + tf.matmul(tf.cast(BETA ,tf.float64),tf.expand_dims(U_S_train[i,:],axis=0),transpose_b=True) + tf.cast(a ,tf.float64) # w * x_data + b\n",
        "        #损失值\n",
        "        loss += tf.reduce_mean(tf.square(y - Y_train[i]), name='loss') + tf.cast(tf.reduce_sum(tf.square(BETA)),tf.double)\n",
        "  #自动计算loss 关于更新变量的梯度\n",
        "  grads = tape.gradient(loss, variables)\n",
        "  #自动根据梯度更新参数\n",
        "  opt.apply_gradients(zip(grads, variables))\n",
        "  if(e % 5 == 0):\n",
        "      print(variables)\n"
      ],
      "execution_count": null,
      "outputs": [
        {
          "output_type": "stream",
          "name": "stdout",
          "text": [
            "[<tf.Variable 'Variable:0' shape=(1,) dtype=float32, numpy=array([0.00172101], dtype=float32)>, <tf.Variable 'b:0' shape=(1, 10) dtype=float32, numpy=\n",
            "array([[-0.74741143,  0.30653384,  0.4826346 ,  0.4595325 ,  0.505479  ,\n",
            "         0.09858276,  0.89445263, -0.41733867,  0.9795727 , -0.539475  ]],\n",
            "      dtype=float32)>, <tf.Variable 'BETA:0' shape=(1, 1000) dtype=float32, numpy=\n",
            "array([[-8.22469950e-01, -7.76691496e-01,  9.72087502e-01,\n",
            "         8.47213030e-01,  3.42215896e-01,  9.97877419e-02,\n",
            "         4.59866881e-01,  5.43040037e-01,  5.67695022e-01,\n",
            "         6.92423284e-01,  4.41049427e-01,  3.64338942e-02,\n",
            "         9.23896194e-01,  3.94744486e-01,  8.09736788e-01,\n",
            "         8.21765736e-02,  2.95991730e-02,  1.77687496e-01,\n",
            "        -1.05224192e-01, -2.06984296e-01, -7.73559868e-01,\n",
            "         1.08647496e-01,  8.74860644e-01,  5.17596304e-01,\n",
            "         3.71069461e-01,  8.59199405e-01, -6.11765862e-01,\n",
            "         4.71325517e-01, -1.49242640e-01, -9.60554063e-01,\n",
            "        -7.07175970e-01,  3.91227275e-01, -3.31358224e-01,\n",
            "         8.81576061e-01,  2.79745430e-01,  5.98684013e-01,\n",
            "         1.02211811e-01, -1.69176146e-01, -7.28099346e-01,\n",
            "         3.82422060e-01,  3.67029198e-02, -7.61224806e-01,\n",
            "        -6.86784685e-01,  5.69498688e-02,  2.94022292e-01,\n",
            "         7.41746604e-01,  4.53465998e-01,  1.84632257e-01,\n",
            "        -1.47343008e-02,  4.96187836e-01,  8.18965912e-01,\n",
            "        -9.31757450e-01,  1.86428472e-01,  4.88763273e-01,\n",
            "        -9.71742213e-01,  2.42871419e-01, -6.96630538e-01,\n",
            "        -7.62788475e-01, -8.72423768e-01,  1.76320866e-01,\n",
            "         3.47980320e-01,  2.03757361e-01,  8.18381190e-01,\n",
            "         8.07865798e-01,  9.23705876e-01, -9.10418332e-01,\n",
            "        -5.26685238e-01,  9.36636329e-01,  3.71596098e-01,\n",
            "         3.34882766e-01, -1.59361675e-01,  3.93661350e-01,\n",
            "        -1.46799251e-01, -2.90192217e-01, -7.02064812e-01,\n",
            "        -4.31812525e-01,  9.55012679e-01, -2.15094183e-02,\n",
            "        -8.46195996e-01,  8.49146962e-01, -3.32811981e-01,\n",
            "        -9.95352805e-01, -6.52920380e-02, -1.46525159e-01,\n",
            "         9.38473701e-01,  2.72115946e-01,  3.62815589e-01,\n",
            "        -3.71800929e-01,  8.02852392e-01, -2.54794508e-01,\n",
            "        -1.45509586e-01,  6.41264081e-01,  2.03446761e-01,\n",
            "        -2.21363634e-01, -8.71603489e-01, -5.43634772e-01,\n",
            "         4.75735158e-01,  1.18478872e-01, -4.21948403e-01,\n",
            "        -4.45299685e-01, -7.33672202e-01,  2.80593306e-01,\n",
            "        -1.63508486e-02,  5.35192192e-01,  3.60458374e-01,\n",
            "         8.00123990e-01,  3.37669790e-01, -6.53503180e-01,\n",
            "         9.19425428e-01, -5.37386835e-01,  3.04786682e-01,\n",
            "        -4.72642511e-01, -1.51128322e-01, -8.67740631e-01,\n",
            "         8.27052951e-01, -8.87587607e-01, -4.74119693e-01,\n",
            "        -1.70515373e-01, -4.79875237e-01,  4.06865269e-01,\n",
            "         7.08284259e-01,  2.25285545e-01,  8.83891106e-01,\n",
            "        -4.16715920e-01,  3.73014569e-01, -7.89865315e-01,\n",
            "         5.50510764e-01,  5.56309462e-01,  9.12072659e-01,\n",
            "        -9.08901393e-01, -5.69147646e-01,  9.89049733e-01,\n",
            "        -8.18534017e-01,  5.93887866e-01,  8.85855377e-01,\n",
            "        -4.61162895e-01, -9.03516412e-01,  9.55753863e-01,\n",
            "         8.42860639e-01,  7.51286209e-01,  7.06210732e-01,\n",
            "         5.13147235e-01,  8.12648237e-01, -8.74972999e-01,\n",
            "         6.75324500e-01,  5.72661579e-01, -1.27002731e-01,\n",
            "         8.70076120e-02, -1.87717959e-01,  3.52277607e-01,\n",
            "         7.18504712e-02, -8.85755837e-01, -4.84076619e-01,\n",
            "         8.48555565e-01,  1.71344951e-01,  6.63605511e-01,\n",
            "        -6.01775587e-01,  3.79441828e-01, -4.31393802e-01,\n",
            "        -2.37589151e-01,  6.75630867e-01,  3.19211960e-01,\n",
            "        -7.24051356e-01,  9.43361938e-01, -8.86797190e-01,\n",
            "        -8.54059398e-01, -3.92679274e-01,  6.00039303e-01,\n",
            "         1.03326805e-01,  1.06844656e-01,  9.30601776e-01,\n",
            "        -1.77172944e-01,  9.89929199e-01, -4.14218962e-01,\n",
            "         4.42807645e-01,  8.54949951e-01, -3.33421499e-01,\n",
            "        -2.22662210e-01,  7.35983849e-01, -6.79364860e-01,\n",
            "         1.54206604e-01,  4.45618838e-01,  5.34085482e-02,\n",
            "        -7.38193631e-01,  5.01825035e-01, -3.14306021e-01,\n",
            "         9.59718287e-01, -8.63293350e-01,  6.90084219e-01,\n",
            "         4.04590696e-01,  9.87493753e-01, -7.75848448e-01,\n",
            "         9.59473908e-01,  9.36272025e-01,  7.46369243e-01,\n",
            "         5.84213436e-01, -7.86876261e-01, -1.39926463e-01,\n",
            "         8.11792985e-02, -5.67548215e-01,  5.15850902e-01,\n",
            "         9.39253926e-01, -6.05850518e-01, -8.10288489e-01,\n",
            "         1.95624933e-01,  1.81284800e-01, -5.47082782e-01,\n",
            "         7.27553666e-01, -7.35000432e-01,  1.29613131e-01,\n",
            "        -2.66988695e-01,  2.21767843e-01,  4.43090320e-01,\n",
            "         6.56982124e-01, -2.06198603e-01, -5.75509071e-01,\n",
            "        -1.47823200e-01,  8.17544520e-01,  4.14666057e-01,\n",
            "         9.66623604e-01,  9.17075932e-01, -5.97834170e-01,\n",
            "         4.63785201e-01,  6.87567890e-01, -7.56587237e-02,\n",
            "        -1.81648761e-01, -1.50524035e-01, -4.97811615e-01,\n",
            "         4.08310860e-01, -6.21155024e-01, -6.08759299e-02,\n",
            "        -1.60323888e-01,  8.01405966e-01,  2.03475744e-01,\n",
            "        -1.30179524e-02, -7.26799607e-01, -1.34749681e-01,\n",
            "        -5.26110113e-01,  5.14813781e-01, -9.47398245e-01,\n",
            "        -2.59800762e-01, -2.61489987e-01,  8.09176266e-01,\n",
            "        -5.90727270e-01,  5.58301806e-01,  1.01876780e-01,\n",
            "        -9.12718922e-02, -6.65403247e-01, -7.56997168e-01,\n",
            "         3.84409159e-01,  5.86011708e-01,  1.41191408e-01,\n",
            "         3.01186860e-01, -6.22445226e-01, -2.69408047e-01,\n",
            "        -5.48280597e-01, -9.54758108e-01, -1.56195790e-01,\n",
            "        -2.10440606e-02, -8.28988373e-01, -3.49724293e-01,\n",
            "        -3.79987061e-01,  7.28705585e-01, -2.22191155e-01,\n",
            "        -8.84690464e-01, -8.92555118e-01,  5.40512085e-01,\n",
            "         1.67737037e-01, -7.25909173e-01, -5.73587775e-01,\n",
            "        -9.18059587e-01, -9.14551735e-01,  2.45238498e-01,\n",
            "         8.38786125e-01,  5.06696880e-01,  1.81423917e-01,\n",
            "         3.45899731e-01, -8.21140766e-01, -2.90843576e-01,\n",
            "         8.58113050e-01,  6.65547907e-01,  5.79750240e-01,\n",
            "         6.61667109e-01, -2.76647955e-01,  9.92868125e-01,\n",
            "         3.98705602e-01,  2.57225156e-01, -1.56209886e-01,\n",
            "        -6.46177009e-02, -1.47029072e-01, -1.31233409e-01,\n",
            "        -5.75256467e-01, -5.52815795e-02,  6.00534797e-01,\n",
            "         1.39350429e-01,  3.62043094e-04, -9.91699398e-01,\n",
            "         8.30205560e-01,  2.18086287e-01, -2.04047859e-01,\n",
            "        -8.64871085e-01,  6.33199990e-01,  2.22632945e-01,\n",
            "         4.93246228e-01, -6.87013507e-01, -7.09755659e-01,\n",
            "        -2.62725085e-01, -5.31648815e-01, -4.12595719e-01,\n",
            "         7.52920508e-01,  3.33788633e-01, -2.35643461e-01,\n",
            "         1.04872987e-01,  4.58817840e-01, -4.55485672e-01,\n",
            "         9.46126699e-01,  3.53481293e-01, -1.26395389e-01,\n",
            "         5.64104378e-01, -3.14221025e-01,  3.95827740e-01,\n",
            "        -7.10473716e-01,  7.77107477e-01,  2.44795352e-01,\n",
            "        -5.19263387e-01, -8.74092996e-01,  7.35162437e-01,\n",
            "         6.45924211e-01,  1.92025304e-01, -3.79603058e-02,\n",
            "         5.05233228e-01,  1.95306376e-01,  7.62546062e-01,\n",
            "        -4.14462984e-01, -1.94834188e-01, -5.49422383e-01,\n",
            "        -5.35578132e-01,  1.61121950e-01,  2.66521960e-01,\n",
            "         6.37813210e-01, -2.65513599e-01, -2.94658393e-01,\n",
            "        -6.29125595e-01,  8.95182490e-01, -6.28910601e-01,\n",
            "        -8.30806971e-01, -2.80776381e-01, -2.33229827e-02,\n",
            "         7.05242753e-01,  8.94977510e-01, -1.59611985e-01,\n",
            "         6.29051104e-02, -7.26030588e-01,  9.83483940e-02,\n",
            "        -4.38618332e-01, -7.33139277e-01,  7.83974290e-01,\n",
            "         4.35185522e-01, -7.88761079e-01, -6.48840845e-01,\n",
            "        -3.92968059e-01,  5.51165521e-01, -2.65617892e-02,\n",
            "        -9.70403552e-01, -2.86570609e-01,  2.73787290e-01,\n",
            "         9.63788390e-01, -8.27345669e-01, -9.80872929e-01,\n",
            "        -1.12919696e-01,  8.42149615e-01, -6.28696859e-01,\n",
            "         5.14935315e-01,  4.12125111e-01,  5.48173845e-01,\n",
            "         2.14297324e-01,  4.78345901e-01, -8.17378938e-01,\n",
            "         3.29705775e-01,  8.02547097e-01, -2.23268524e-01,\n",
            "        -2.03968972e-01, -5.98701358e-01, -6.38338208e-01,\n",
            "         8.79631817e-01, -8.71585131e-01,  8.24681818e-01,\n",
            "        -8.48401666e-01, -6.86469495e-01,  3.24267387e-01,\n",
            "         2.13657439e-01, -2.73710996e-01, -2.67367542e-01,\n",
            "        -5.93071938e-01,  5.29315770e-01, -2.96307623e-01,\n",
            "         4.97331142e-01,  6.12716317e-01,  6.30101204e-01,\n",
            "         9.90494013e-01,  7.13872135e-01, -9.51575875e-01,\n",
            "        -4.20485616e-01,  7.59293437e-01, -7.43426144e-01,\n",
            "         7.34385490e-01, -9.37220871e-01, -9.80893433e-01,\n",
            "        -2.79539168e-01,  9.66961503e-01,  4.92264284e-03,\n",
            "        -1.85402319e-01, -3.40155065e-01, -6.65009737e-01,\n",
            "        -4.49748822e-02, -5.78135312e-01,  6.19379044e-01,\n",
            "        -3.94425482e-01,  4.56486017e-01,  7.60722399e-01,\n",
            "        -7.33847558e-01, -7.48088300e-01,  4.71207619e-01,\n",
            "         4.02969629e-01, -7.27036595e-01,  9.21952352e-02,\n",
            "         3.43564719e-01,  5.17360806e-01,  8.09845984e-01,\n",
            "        -4.78587806e-01,  8.36734951e-01,  3.95342827e-01,\n",
            "         7.77927756e-01,  9.61678386e-01, -3.16215575e-01,\n",
            "         8.57655287e-01, -8.59883148e-03, -8.75317812e-01,\n",
            "        -5.01161158e-01,  3.77771631e-02,  4.85125721e-01,\n",
            "        -5.23437671e-02, -6.37650862e-02, -9.03849781e-01,\n",
            "        -5.56880295e-01, -8.64758074e-01, -1.35566533e-01,\n",
            "        -6.55839801e-01,  1.39363959e-01, -2.44207934e-01,\n",
            "        -8.77047777e-01,  7.59409964e-01,  6.13370202e-02,\n",
            "         5.73052108e-01, -6.48365319e-02,  1.94940001e-01,\n",
            "         2.34236062e-01,  3.41469944e-01, -7.16026008e-01,\n",
            "        -5.15786260e-02,  9.07997712e-02, -9.64178443e-01,\n",
            "        -8.02788556e-01, -5.49323440e-01,  1.55984446e-01,\n",
            "        -9.94697452e-01, -2.25498468e-01, -1.27003521e-01,\n",
            "         1.55660585e-01,  5.15642762e-01,  2.02404812e-01,\n",
            "         7.61220157e-01, -8.17618668e-01, -3.36552501e-01,\n",
            "         6.24799907e-01,  4.61279571e-01, -8.13728690e-01,\n",
            "         6.16538405e-01,  8.40389669e-01,  2.23626047e-01,\n",
            "        -8.06151628e-01, -7.78119981e-01, -6.55796587e-01,\n",
            "         1.41148254e-01,  8.68921816e-01, -3.28117937e-01,\n",
            "        -5.73739231e-01,  7.88873553e-01, -6.16514325e-01,\n",
            "        -1.74602613e-01,  8.53422999e-01, -9.83202934e-01,\n",
            "         9.00480151e-01, -6.37296736e-01, -5.98757803e-01,\n",
            "         7.37523139e-01,  1.86456904e-01,  1.33873299e-01,\n",
            "         4.63751823e-01, -8.88604999e-01, -2.90314645e-01,\n",
            "        -3.99145633e-01,  5.24006486e-02, -9.75627899e-01,\n",
            "        -5.84377944e-02, -2.19228834e-01,  9.60702658e-01,\n",
            "         4.08542812e-01,  1.42603770e-01, -8.67599368e-01,\n",
            "        -3.06414831e-02,  7.96378553e-01,  6.77042007e-01,\n",
            "        -2.73746401e-01, -8.45746920e-02,  3.63000125e-01,\n",
            "        -4.62659985e-01,  9.94051397e-01,  4.89794374e-01,\n",
            "         9.49715078e-01, -2.96164185e-01, -4.40682173e-01,\n",
            "        -1.47942454e-01, -6.83971822e-01, -6.50897384e-01,\n",
            "        -2.47095176e-03, -9.30774391e-01,  9.85642254e-01,\n",
            "        -5.52932382e-01,  7.26080596e-01, -6.20433271e-01,\n",
            "         4.36405778e-01, -4.69586134e-01, -4.69986588e-01,\n",
            "         2.59353310e-01,  8.98365304e-03,  9.60408032e-01,\n",
            "        -9.23824787e-01,  7.78490901e-01, -8.72401059e-01,\n",
            "         4.36018139e-01, -1.19923078e-01,  6.93649471e-01,\n",
            "        -4.35087979e-01,  5.89307606e-01, -4.47372109e-01,\n",
            "         4.66483027e-01, -9.29477632e-01, -1.05290465e-01,\n",
            "         4.81749326e-01,  1.19849086e-01,  5.23668051e-01,\n",
            "         3.94777000e-01,  1.54456571e-01,  3.06866646e-01,\n",
            "        -1.76791519e-01, -7.20203528e-03, -5.75261116e-01,\n",
            "        -3.74667883e-01,  2.72211999e-01, -9.96163070e-01,\n",
            "         9.13087666e-01,  3.66122395e-01, -2.54346490e-01,\n",
            "         9.01403189e-01,  8.61393809e-01, -5.04476070e-01,\n",
            "        -9.38421965e-01, -7.20628321e-01,  7.51785636e-01,\n",
            "         3.42475951e-01, -5.75255573e-01, -6.92722440e-01,\n",
            "         2.77745098e-01,  3.50270599e-01,  6.06356978e-01,\n",
            "         2.47979671e-01, -5.56348860e-02,  3.18552077e-01,\n",
            "        -7.59648919e-01, -2.98607856e-01, -2.90231586e-01,\n",
            "         9.73289311e-01,  5.10979354e-01, -7.48678148e-01,\n",
            "         2.58050412e-02, -7.15406658e-03,  3.15573514e-01,\n",
            "         9.59314287e-01,  2.12723613e-01,  8.87155473e-01,\n",
            "         9.21204448e-01, -9.52462375e-01, -5.07590055e-01,\n",
            "         3.85550767e-01, -6.60413980e-01,  9.86800492e-01,\n",
            "        -6.94632649e-01, -9.35999155e-01,  5.79637349e-01,\n",
            "         3.35439861e-01,  5.85000455e-01,  7.17113614e-01,\n",
            "        -3.26328367e-01, -6.57783508e-01, -1.57293990e-01,\n",
            "         7.92023003e-01, -4.79849100e-01,  8.05467546e-01,\n",
            "        -4.91953969e-01, -2.45208591e-01,  9.58260238e-01,\n",
            "         6.52877748e-01, -1.81522071e-02, -9.87177670e-01,\n",
            "         6.62787557e-01, -9.27698433e-01,  7.86942840e-01,\n",
            "        -2.56643713e-01,  8.67971838e-01, -4.57081348e-01,\n",
            "        -6.68423712e-01, -6.96443021e-01,  4.72853631e-01,\n",
            "        -9.02679563e-01,  8.10847163e-01, -3.69126707e-01,\n",
            "        -7.36679852e-01, -6.62639499e-01, -6.06728606e-02,\n",
            "        -4.55178112e-01, -9.20596719e-01, -6.84373915e-01,\n",
            "         5.86244941e-01,  5.47517598e-01,  5.37749469e-01,\n",
            "        -7.93270648e-01, -4.90142077e-01, -3.15283895e-01,\n",
            "         2.41427019e-01,  8.81430924e-01,  2.44702458e-01,\n",
            "        -9.61402774e-01, -2.37974867e-01,  4.02630776e-01,\n",
            "        -6.33710802e-01,  3.06306571e-01, -1.76095471e-01,\n",
            "        -5.30963659e-01,  9.55041230e-01,  2.38895103e-01,\n",
            "        -3.24954033e-01,  2.10245758e-01, -5.43113053e-01,\n",
            "        -3.55902553e-01, -6.00577295e-01,  4.36646998e-01,\n",
            "        -7.97772884e-01,  8.24432194e-01,  5.97843170e-01,\n",
            "        -1.47414252e-01,  1.49976119e-01,  6.57829583e-01,\n",
            "         5.18961608e-01, -4.57548052e-01, -7.05756485e-01,\n",
            "         8.49716663e-01,  9.68103349e-01, -3.02175343e-01,\n",
            "        -8.69837582e-01, -1.44494832e-01,  7.70263851e-01,\n",
            "         6.46427393e-01, -4.14178491e-01, -1.72857359e-01,\n",
            "        -2.32223883e-01, -6.18062079e-01,  8.72714877e-01,\n",
            "         3.00827742e-01,  5.66941500e-01,  3.24850351e-01,\n",
            "         6.74167931e-01,  5.58519006e-01,  6.28066480e-01,\n",
            "        -8.70532393e-01, -5.06174862e-01, -7.97324359e-01,\n",
            "         7.30728388e-01,  2.39401869e-02,  1.08663037e-01,\n",
            "         2.44641542e-01,  5.07948458e-01, -9.03607905e-01,\n",
            "         3.01759660e-01, -1.31741469e-03, -5.21437764e-01,\n",
            "        -5.04566908e-01,  3.31439137e-01, -1.50080785e-01,\n",
            "         4.87162292e-01, -6.60010397e-01,  2.52772748e-01,\n",
            "        -2.48993173e-01,  1.09721668e-01, -5.05940378e-01,\n",
            "         6.71447217e-01,  9.54484940e-01, -1.54661909e-01,\n",
            "         2.12385491e-01, -7.13898182e-01, -7.94801176e-01,\n",
            "        -6.09501489e-02,  1.79810897e-01,  1.21417064e-02,\n",
            "        -9.75799322e-01, -1.91162571e-01, -9.61843610e-01,\n",
            "        -9.69885409e-01, -2.28634819e-01, -6.43399358e-01,\n",
            "         1.77304104e-01,  2.52446771e-01,  6.87105060e-01,\n",
            "         4.71710861e-01, -3.03670973e-01,  2.18981653e-01,\n",
            "         3.54912907e-01, -4.29076970e-01,  6.63276110e-03,\n",
            "        -9.75290775e-01,  7.44147375e-02, -9.88580108e-01,\n",
            "         8.78675342e-01, -3.86149615e-01,  8.52487803e-01,\n",
            "        -1.83763087e-01,  2.15365946e-01,  7.81449556e-01,\n",
            "        -6.68252051e-01, -9.95255589e-01, -3.82223189e-01,\n",
            "         8.93665314e-01,  1.51890263e-01,  3.25284563e-02,\n",
            "         7.92981498e-03, -5.09406209e-01,  8.61495197e-01,\n",
            "         3.28526646e-01,  7.19112039e-01,  7.98627973e-01,\n",
            "        -2.32757136e-01, -5.18494427e-01, -2.46260479e-01,\n",
            "        -6.78086281e-02, -3.96708786e-01, -8.22323382e-01,\n",
            "        -8.07468653e-01,  9.30658877e-01,  5.53288639e-01,\n",
            "         9.47257936e-01,  7.92537928e-01, -7.85569012e-01,\n",
            "         7.74623156e-01, -2.40789101e-01, -3.20091218e-01,\n",
            "        -4.68998700e-02, -4.56698895e-01, -1.83286384e-01,\n",
            "        -7.56105721e-01,  3.39800298e-01, -1.96311221e-01,\n",
            "        -8.32864583e-01,  9.70202327e-01,  4.10707206e-01,\n",
            "         8.26255679e-01, -2.60408252e-01,  9.80312586e-01,\n",
            "         6.32520199e-01,  2.75769055e-01,  8.74998510e-01,\n",
            "        -8.90318513e-01,  7.86972523e-01,  9.29937840e-01,\n",
            "        -5.91867380e-02,  4.52510715e-01,  5.52446544e-01,\n",
            "        -9.44517672e-01, -2.39402011e-01,  2.69597143e-01,\n",
            "         5.46281040e-02, -2.38268375e-01, -9.58229661e-01,\n",
            "        -1.09765284e-01, -4.50939447e-01, -8.87783349e-01,\n",
            "         1.09749176e-01,  3.99173915e-01,  3.28486003e-02,\n",
            "        -1.69269934e-01, -4.04527374e-02, -9.03739333e-01,\n",
            "         2.45540440e-01, -5.37422597e-01,  5.36087334e-01,\n",
            "        -3.94637078e-01, -6.74620271e-02,  2.05862094e-02,\n",
            "         3.69310439e-01,  5.15901387e-01,  5.63577652e-01,\n",
            "         9.17799354e-01, -5.12030959e-01,  9.55253839e-01,\n",
            "        -4.90166426e-01, -1.79897770e-01,  1.68853048e-02,\n",
            "        -6.48979545e-01,  9.06870961e-01,  2.47277841e-01,\n",
            "        -4.17619497e-01, -7.50584424e-01,  3.77851874e-01,\n",
            "         7.58918643e-01,  8.24289203e-01,  9.06439275e-02,\n",
            "        -1.64864272e-01, -3.33855152e-01, -3.01034898e-01,\n",
            "        -5.12826264e-01, -3.10724497e-01,  3.97424787e-01,\n",
            "        -3.79903585e-01, -6.22547507e-01,  1.24933332e-01,\n",
            "         4.45309401e-01,  9.88176823e-01, -3.11226279e-01,\n",
            "         7.97413111e-01,  1.77085131e-01, -4.74453002e-01,\n",
            "         1.60830289e-01, -4.17854875e-01,  9.30956602e-01,\n",
            "         1.55382141e-01,  9.57653344e-01, -1.81593254e-01,\n",
            "        -2.03178870e-03,  4.93378371e-01, -6.73357010e-01,\n",
            "        -7.85951436e-01,  7.94421673e-01, -3.05944886e-02,\n",
            "        -1.61612734e-01,  6.84753895e-01,  9.74347591e-01,\n",
            "        -2.93248296e-01, -2.03670084e-01, -5.36399066e-01,\n",
            "         1.79135203e-01, -4.47185002e-02, -4.28509146e-01,\n",
            "        -3.50037038e-01, -3.99819523e-01,  8.34568262e-01,\n",
            "         8.31050396e-01,  2.05333263e-01, -4.70057875e-01,\n",
            "        -9.18440640e-01,  5.24299145e-01, -5.14635444e-01,\n",
            "        -5.63610392e-03,  7.31994271e-01, -6.29203141e-01,\n",
            "        -5.93549430e-01, -9.41176772e-01,  2.83026218e-01,\n",
            "         2.40668729e-01,  8.21395576e-01, -2.27802351e-01,\n",
            "         9.16150868e-01,  3.93009633e-01,  5.38372397e-01,\n",
            "        -6.04695797e-01, -4.23887193e-01, -8.30731452e-01,\n",
            "         3.90081853e-01, -9.34459269e-01, -7.51751661e-02,\n",
            "         9.83648300e-01, -9.84652519e-01, -6.94660783e-01,\n",
            "        -3.42701733e-01, -7.73375869e-01, -6.08303487e-01,\n",
            "        -9.48973238e-01,  6.32303022e-03, -2.69422650e-01,\n",
            "        -8.20876896e-01, -4.66789186e-01, -5.66149533e-01,\n",
            "         3.20403069e-01,  5.83685815e-01,  1.08169064e-01,\n",
            "         5.89427114e-01, -9.67849046e-02, -9.12642419e-01,\n",
            "         7.31240928e-01, -1.39468126e-02,  6.24973178e-01,\n",
            "         6.21763647e-01,  7.48910427e-01, -6.62961721e-01,\n",
            "         8.68427515e-01, -2.20333785e-01,  8.07561636e-01,\n",
            "        -7.43160784e-01, -7.22073615e-01,  7.05968797e-01,\n",
            "        -3.60435605e-01, -3.31891835e-01,  2.82334775e-01,\n",
            "        -7.12961853e-01,  8.36933970e-01, -1.86634630e-01,\n",
            "        -8.52322698e-01, -6.54153675e-02,  1.53240800e-01,\n",
            "         4.37384665e-01,  3.35967928e-01,  2.28115261e-01,\n",
            "         8.22008908e-01, -5.73188484e-01, -8.74742389e-01,\n",
            "        -9.19921160e-01, -9.60665286e-01,  8.88770938e-01,\n",
            "        -2.82183141e-01,  1.67943090e-01,  4.50093806e-01,\n",
            "         6.36478215e-02,  2.70961612e-01, -2.60295004e-01,\n",
            "         5.39218307e-01, -9.10029262e-02,  1.63432792e-01,\n",
            "        -1.29903734e-01, -1.61802486e-01, -1.56981006e-01,\n",
            "        -5.87812722e-01,  6.42201424e-01,  2.47201920e-01,\n",
            "         3.08130205e-01, -6.03495836e-01, -3.13253731e-01,\n",
            "        -1.33130059e-01,  9.49215353e-01, -6.64929688e-01,\n",
            "         7.06114829e-01,  4.70311433e-01,  2.85544515e-01,\n",
            "        -3.00840735e-01,  5.36316097e-01,  1.90787241e-01,\n",
            "         1.77311480e-01, -8.68360877e-01, -5.22356331e-01,\n",
            "         9.06026542e-01, -8.56418721e-03, -8.59544277e-01,\n",
            "        -5.96256196e-01, -7.54437268e-01,  5.90544999e-01,\n",
            "         4.86166596e-01,  3.37862968e-02, -1.78855106e-01,\n",
            "         9.98136401e-02,  9.88605261e-01,  9.91104662e-01,\n",
            "         2.46137716e-02,  1.86924726e-01, -6.93797529e-01,\n",
            "         8.78197849e-01,  6.67590261e-01,  4.68301594e-01,\n",
            "         9.54311490e-01, -7.64825523e-01,  5.74281752e-01,\n",
            "         8.24985147e-01, -9.66589749e-01, -7.48622477e-01,\n",
            "        -8.98901045e-01,  5.74282646e-01, -7.77660310e-01,\n",
            "        -3.38233292e-01, -1.29679292e-01, -5.84725797e-01,\n",
            "         8.20620954e-01,  3.63150239e-01, -2.83816177e-03,\n",
            "        -2.46066511e-01]], dtype=float32)>]\n"
          ]
        }
      ]
    },
    {
      "cell_type": "code",
      "metadata": {
        "colab": {
          "base_uri": "https://localhost:8080/"
        },
        "id": "PmCF5XAfa1fO",
        "outputId": "55a19371-6bf2-42d4-a8d1-1e9012b25b78"
      },
      "source": [
        "# 模型测试\n",
        "MSE = 0\n",
        "Y_pred = []\n",
        "for i in range(len(F_test)):\n",
        "    y = tf.matmul(tf.cast(b ,tf.float64),tf.expand_dims(F_test[i,:],axis=0),transpose_b=True) + tf.matmul(tf.cast(BETA ,tf.float64),tf.expand_dims(U_S_test[i,:],axis=0),transpose_b=True) + tf.cast(a ,tf.float64) # w * x_data + b\n",
        "    Y_pred.append(y)\n",
        "    #损失值\n",
        "    MSE += tf.reduce_mean(tf.square(y - Y_test[i]))\n",
        "print(\"test MSE: \",MSE/len(Y_test))\n"
      ],
      "execution_count": null,
      "outputs": [
        {
          "output_type": "stream",
          "name": "stdout",
          "text": [
            "test MSE:  tf.Tensor(96.14467276181844, shape=(), dtype=float64)\n"
          ]
        }
      ]
    },
    {
      "cell_type": "code",
      "metadata": {
        "colab": {
          "base_uri": "https://localhost:8080/"
        },
        "id": "PK9NEroNa1nd",
        "outputId": "20aa8c08-21d2-4ec2-8432-a579f3ed6e13"
      },
      "source": [
        "list(Y_test)[:10]"
      ],
      "execution_count": null,
      "outputs": [
        {
          "output_type": "execute_result",
          "data": {
            "text/plain": [
              "[10.011507479861928,\n",
              " -2.888237756383442,\n",
              " 3.379721669980119,\n",
              " 10.006082725060818,\n",
              " -3.217158176943686,\n",
              " -0.3277494537509124,\n",
              " 0.8386778490380048,\n",
              " -3.1096563011456735,\n",
              " 4.137931034482775,\n",
              " 0.0]"
            ]
          },
          "metadata": {},
          "execution_count": 29
        }
      ]
    },
    {
      "cell_type": "code",
      "metadata": {
        "colab": {
          "base_uri": "https://localhost:8080/"
        },
        "id": "8vNvto8Qa1rI",
        "outputId": "584801b6-fd5c-4d24-fd55-c89abd5dca03"
      },
      "source": [
        "Y_pred[:10]"
      ],
      "execution_count": null,
      "outputs": [
        {
          "output_type": "execute_result",
          "data": {
            "text/plain": [
              "[<tf.Tensor: shape=(1, 1), dtype=float64, numpy=array([[0.79703477]])>,\n",
              " <tf.Tensor: shape=(1, 1), dtype=float64, numpy=array([[-3.09522977]])>,\n",
              " <tf.Tensor: shape=(1, 1), dtype=float64, numpy=array([[2.73045211]])>,\n",
              " <tf.Tensor: shape=(1, 1), dtype=float64, numpy=array([[4.65604435]])>,\n",
              " <tf.Tensor: shape=(1, 1), dtype=float64, numpy=array([[0.19336824]])>,\n",
              " <tf.Tensor: shape=(1, 1), dtype=float64, numpy=array([[-0.41055805]])>,\n",
              " <tf.Tensor: shape=(1, 1), dtype=float64, numpy=array([[8.00904156]])>,\n",
              " <tf.Tensor: shape=(1, 1), dtype=float64, numpy=array([[-16.3073078]])>,\n",
              " <tf.Tensor: shape=(1, 1), dtype=float64, numpy=array([[2.31241193]])>,\n",
              " <tf.Tensor: shape=(1, 1), dtype=float64, numpy=array([[-1.82108644]])>]"
            ]
          },
          "metadata": {},
          "execution_count": 30
        }
      ]
    },
    {
      "cell_type": "code",
      "metadata": {
        "colab": {
          "base_uri": "https://localhost:8080/"
        },
        "id": "HihVt8HEsEgQ",
        "outputId": "af69ddfc-a7fe-4596-bbf0-269164d4200e"
      },
      "source": [
        "np.append(F_train,U_S_train)"
      ],
      "execution_count": null,
      "outputs": [
        {
          "output_type": "execute_result",
          "data": {
            "text/plain": [
              "array([ 0.48429433, -0.32117063, -0.40476755, ..., -0.01369483,\n",
              "       -0.08253544, -0.04825744])"
            ]
          },
          "metadata": {},
          "execution_count": 31
        }
      ]
    },
    {
      "cell_type": "code",
      "metadata": {
        "id": "0yO16eRZvAkq"
      },
      "source": [
        "# 模型训练\n",
        "# lasso实现：\n",
        "# lasso原理：https://zhuanlan.zhihu.com/p/116869931\n",
        "from sklearn.linear_model import Lasso\n",
        "model_lasso = Lasso()\n",
        "model_lasso = model_lasso.fit(np.append(F_train,U_S_train).reshape((-1,k+S_word_num)), Y_train.reshape((-1,1))) #np.real(F)：提取复数的实部\n",
        "'''\n",
        "# get result: y = b0 + b1x\n",
        "r_sq = model_Y_f.score(F, Y)\n",
        "print('coefficient of determination(𝑅²) :', r_sq)\n",
        "# coefficient of determination(𝑅²) : 0.715875613747954\n",
        "print('intercept:', model_Y_f.intercept_)\n",
        "# （标量） 系数b0 intercept: 5.633333333333329 -------this will be an array when y is also 2-dimensional\n",
        "print('slope:', model_Y_f.coef_)\n",
        "# （数组）斜率b1 slope: [0.54]        ---------this will be 2-d array when y is also 2-dimensional\n",
        "'''\n",
        "# predict response: given x, get y from the model y = b0+b1x\n",
        "Y_lasso_pred = model_lasso.predict(np.append(F_test,U_S_test).reshape((-1,k+S_word_num)))"
      ],
      "execution_count": null,
      "outputs": []
    },
    {
      "cell_type": "code",
      "metadata": {
        "colab": {
          "base_uri": "https://localhost:8080/"
        },
        "id": "wZWNr7r1txQ7",
        "outputId": "585a57e7-2495-4c9f-db55-8c52cc3976d2"
      },
      "source": [
        "Y_lasso_pred.shape"
      ],
      "execution_count": null,
      "outputs": [
        {
          "output_type": "execute_result",
          "data": {
            "text/plain": [
              "(589,)"
            ]
          },
          "metadata": {},
          "execution_count": 33
        }
      ]
    },
    {
      "cell_type": "code",
      "metadata": {
        "colab": {
          "base_uri": "https://localhost:8080/"
        },
        "id": "JWHBb53YjM9D",
        "outputId": "08ec93f2-34d8-4e59-bd19-935136d1fea1"
      },
      "source": [
        "from sklearn.metrics import mean_squared_error\n",
        "mean_squared_error(Y_test,Y_lasso_pred)  #虽然比tf2的版本小，但是所有预测值都是一摸一样。。。"
      ],
      "execution_count": null,
      "outputs": [
        {
          "output_type": "execute_result",
          "data": {
            "text/plain": [
              "25.631424046093972"
            ]
          },
          "metadata": {},
          "execution_count": 34
        }
      ]
    },
    {
      "cell_type": "code",
      "metadata": {
        "id": "aouAQLpHcB8E",
        "colab": {
          "base_uri": "https://localhost:8080/"
        },
        "outputId": "ca7a8548-3cbd-4de9-a16b-c653dbfa1df8"
      },
      "source": [
        "Y_lasso_pred"
      ],
      "execution_count": null,
      "outputs": [
        {
          "output_type": "execute_result",
          "data": {
            "text/plain": [
              "array([-0.19257754, -0.19257754, -0.19257754, -0.19257754, -0.19257754,\n",
              "       -0.19257754, -0.19257754, -0.19257754, -0.19257754, -0.19257754,\n",
              "       -0.19257754, -0.19257754, -0.19257754, -0.19257754, -0.19257754,\n",
              "       -0.19257754, -0.19257754, -0.19257754, -0.19257754, -0.19257754,\n",
              "       -0.19257754, -0.19257754, -0.19257754, -0.19257754, -0.19257754,\n",
              "       -0.19257754, -0.19257754, -0.19257754, -0.19257754, -0.19257754,\n",
              "       -0.19257754, -0.19257754, -0.19257754, -0.19257754, -0.19257754,\n",
              "       -0.19257754, -0.19257754, -0.19257754, -0.19257754, -0.19257754,\n",
              "       -0.19257754, -0.19257754, -0.19257754, -0.19257754, -0.19257754,\n",
              "       -0.19257754, -0.19257754, -0.19257754, -0.19257754, -0.19257754,\n",
              "       -0.19257754, -0.19257754, -0.19257754, -0.19257754, -0.19257754,\n",
              "       -0.19257754, -0.19257754, -0.19257754, -0.19257754, -0.19257754,\n",
              "       -0.19257754, -0.19257754, -0.19257754, -0.19257754, -0.19257754,\n",
              "       -0.19257754, -0.19257754, -0.19257754, -0.19257754, -0.19257754,\n",
              "       -0.19257754, -0.19257754, -0.19257754, -0.19257754, -0.19257754,\n",
              "       -0.19257754, -0.19257754, -0.19257754, -0.19257754, -0.19257754,\n",
              "       -0.19257754, -0.19257754, -0.19257754, -0.19257754, -0.19257754,\n",
              "       -0.19257754, -0.19257754, -0.19257754, -0.19257754, -0.19257754,\n",
              "       -0.19257754, -0.19257754, -0.19257754, -0.19257754, -0.19257754,\n",
              "       -0.19257754, -0.19257754, -0.19257754, -0.19257754, -0.19257754,\n",
              "       -0.19257754, -0.19257754, -0.19257754, -0.19257754, -0.19257754,\n",
              "       -0.19257754, -0.19257754, -0.19257754, -0.19257754, -0.19257754,\n",
              "       -0.19257754, -0.19257754, -0.19257754, -0.19257754, -0.19257754,\n",
              "       -0.19257754, -0.19257754, -0.19257754, -0.19257754, -0.19257754,\n",
              "       -0.19257754, -0.19257754, -0.19257754, -0.19257754, -0.19257754,\n",
              "       -0.19257754, -0.19257754, -0.19257754, -0.19257754, -0.19257754,\n",
              "       -0.19257754, -0.19257754, -0.19257754, -0.19257754, -0.19257754,\n",
              "       -0.19257754, -0.19257754, -0.19257754, -0.19257754, -0.19257754,\n",
              "       -0.19257754, -0.19257754, -0.19257754, -0.19257754, -0.19257754,\n",
              "       -0.19257754, -0.19257754, -0.19257754, -0.19257754, -0.19257754,\n",
              "       -0.19257754, -0.19257754, -0.19257754, -0.19257754, -0.19257754,\n",
              "       -0.19257754, -0.19257754, -0.19257754, -0.19257754, -0.19257754,\n",
              "       -0.19257754, -0.19257754, -0.19257754, -0.19257754, -0.19257754,\n",
              "       -0.19257754, -0.19257754, -0.19257754, -0.19257754, -0.19257754,\n",
              "       -0.19257754, -0.19257754, -0.19257754, -0.19257754, -0.19257754,\n",
              "       -0.19257754, -0.19257754, -0.19257754, -0.19257754, -0.19257754,\n",
              "       -0.19257754, -0.19257754, -0.19257754, -0.19257754, -0.19257754,\n",
              "       -0.19257754, -0.19257754, -0.19257754, -0.19257754, -0.19257754,\n",
              "       -0.19257754, -0.19257754, -0.19257754, -0.19257754, -0.19257754,\n",
              "       -0.19257754, -0.19257754, -0.19257754, -0.19257754, -0.19257754,\n",
              "       -0.19257754, -0.19257754, -0.19257754, -0.19257754, -0.19257754,\n",
              "       -0.19257754, -0.19257754, -0.19257754, -0.19257754, -0.19257754,\n",
              "       -0.19257754, -0.19257754, -0.19257754, -0.19257754, -0.19257754,\n",
              "       -0.19257754, -0.19257754, -0.19257754, -0.19257754, -0.19257754,\n",
              "       -0.19257754, -0.19257754, -0.19257754, -0.19257754, -0.19257754,\n",
              "       -0.19257754, -0.19257754, -0.19257754, -0.19257754, -0.19257754,\n",
              "       -0.19257754, -0.19257754, -0.19257754, -0.19257754, -0.19257754,\n",
              "       -0.19257754, -0.19257754, -0.19257754, -0.19257754, -0.19257754,\n",
              "       -0.19257754, -0.19257754, -0.19257754, -0.19257754, -0.19257754,\n",
              "       -0.19257754, -0.19257754, -0.19257754, -0.19257754, -0.19257754,\n",
              "       -0.19257754, -0.19257754, -0.19257754, -0.19257754, -0.19257754,\n",
              "       -0.19257754, -0.19257754, -0.19257754, -0.19257754, -0.19257754,\n",
              "       -0.19257754, -0.19257754, -0.19257754, -0.19257754, -0.19257754,\n",
              "       -0.19257754, -0.19257754, -0.19257754, -0.19257754, -0.19257754,\n",
              "       -0.19257754, -0.19257754, -0.19257754, -0.19257754, -0.19257754,\n",
              "       -0.19257754, -0.19257754, -0.19257754, -0.19257754, -0.19257754,\n",
              "       -0.19257754, -0.19257754, -0.19257754, -0.19257754, -0.19257754,\n",
              "       -0.19257754, -0.19257754, -0.19257754, -0.19257754, -0.19257754,\n",
              "       -0.19257754, -0.19257754, -0.19257754, -0.19257754, -0.19257754,\n",
              "       -0.19257754, -0.19257754, -0.19257754, -0.19257754, -0.19257754,\n",
              "       -0.19257754, -0.19257754, -0.19257754, -0.19257754, -0.19257754,\n",
              "       -0.19257754, -0.19257754, -0.19257754, -0.19257754, -0.19257754,\n",
              "       -0.19257754, -0.19257754, -0.19257754, -0.19257754, -0.19257754,\n",
              "       -0.19257754, -0.19257754, -0.19257754, -0.19257754, -0.19257754,\n",
              "       -0.19257754, -0.19257754, -0.19257754, -0.19257754, -0.19257754,\n",
              "       -0.19257754, -0.19257754, -0.19257754, -0.19257754, -0.19257754,\n",
              "       -0.19257754, -0.19257754, -0.19257754, -0.19257754, -0.19257754,\n",
              "       -0.19257754, -0.19257754, -0.19257754, -0.19257754, -0.19257754,\n",
              "       -0.19257754, -0.19257754, -0.19257754, -0.19257754, -0.19257754,\n",
              "       -0.19257754, -0.19257754, -0.19257754, -0.19257754, -0.19257754,\n",
              "       -0.19257754, -0.19257754, -0.19257754, -0.19257754, -0.19257754,\n",
              "       -0.19257754, -0.19257754, -0.19257754, -0.19257754, -0.19257754,\n",
              "       -0.19257754, -0.19257754, -0.19257754, -0.19257754, -0.19257754,\n",
              "       -0.19257754, -0.19257754, -0.19257754, -0.19257754, -0.19257754,\n",
              "       -0.19257754, -0.19257754, -0.19257754, -0.19257754, -0.19257754,\n",
              "       -0.19257754, -0.19257754, -0.19257754, -0.19257754, -0.19257754,\n",
              "       -0.19257754, -0.19257754, -0.19257754, -0.19257754, -0.19257754,\n",
              "       -0.19257754, -0.19257754, -0.19257754, -0.19257754, -0.19257754,\n",
              "       -0.19257754, -0.19257754, -0.19257754, -0.19257754, -0.19257754,\n",
              "       -0.19257754, -0.19257754, -0.19257754, -0.19257754, -0.19257754,\n",
              "       -0.19257754, -0.19257754, -0.19257754, -0.19257754, -0.19257754,\n",
              "       -0.19257754, -0.19257754, -0.19257754, -0.19257754, -0.19257754,\n",
              "       -0.19257754, -0.19257754, -0.19257754, -0.19257754, -0.19257754,\n",
              "       -0.19257754, -0.19257754, -0.19257754, -0.19257754, -0.19257754,\n",
              "       -0.19257754, -0.19257754, -0.19257754, -0.19257754, -0.19257754,\n",
              "       -0.19257754, -0.19257754, -0.19257754, -0.19257754, -0.19257754,\n",
              "       -0.19257754, -0.19257754, -0.19257754, -0.19257754, -0.19257754,\n",
              "       -0.19257754, -0.19257754, -0.19257754, -0.19257754, -0.19257754,\n",
              "       -0.19257754, -0.19257754, -0.19257754, -0.19257754, -0.19257754,\n",
              "       -0.19257754, -0.19257754, -0.19257754, -0.19257754, -0.19257754,\n",
              "       -0.19257754, -0.19257754, -0.19257754, -0.19257754, -0.19257754,\n",
              "       -0.19257754, -0.19257754, -0.19257754, -0.19257754, -0.19257754,\n",
              "       -0.19257754, -0.19257754, -0.19257754, -0.19257754, -0.19257754,\n",
              "       -0.19257754, -0.19257754, -0.19257754, -0.19257754, -0.19257754,\n",
              "       -0.19257754, -0.19257754, -0.19257754, -0.19257754, -0.19257754,\n",
              "       -0.19257754, -0.19257754, -0.19257754, -0.19257754, -0.19257754,\n",
              "       -0.19257754, -0.19257754, -0.19257754, -0.19257754, -0.19257754,\n",
              "       -0.19257754, -0.19257754, -0.19257754, -0.19257754, -0.19257754,\n",
              "       -0.19257754, -0.19257754, -0.19257754, -0.19257754, -0.19257754,\n",
              "       -0.19257754, -0.19257754, -0.19257754, -0.19257754, -0.19257754,\n",
              "       -0.19257754, -0.19257754, -0.19257754, -0.19257754, -0.19257754,\n",
              "       -0.19257754, -0.19257754, -0.19257754, -0.19257754, -0.19257754,\n",
              "       -0.19257754, -0.19257754, -0.19257754, -0.19257754, -0.19257754,\n",
              "       -0.19257754, -0.19257754, -0.19257754, -0.19257754, -0.19257754,\n",
              "       -0.19257754, -0.19257754, -0.19257754, -0.19257754, -0.19257754,\n",
              "       -0.19257754, -0.19257754, -0.19257754, -0.19257754, -0.19257754,\n",
              "       -0.19257754, -0.19257754, -0.19257754, -0.19257754, -0.19257754,\n",
              "       -0.19257754, -0.19257754, -0.19257754, -0.19257754, -0.19257754,\n",
              "       -0.19257754, -0.19257754, -0.19257754, -0.19257754, -0.19257754,\n",
              "       -0.19257754, -0.19257754, -0.19257754, -0.19257754, -0.19257754,\n",
              "       -0.19257754, -0.19257754, -0.19257754, -0.19257754, -0.19257754,\n",
              "       -0.19257754, -0.19257754, -0.19257754, -0.19257754, -0.19257754,\n",
              "       -0.19257754, -0.19257754, -0.19257754, -0.19257754, -0.19257754,\n",
              "       -0.19257754, -0.19257754, -0.19257754, -0.19257754, -0.19257754,\n",
              "       -0.19257754, -0.19257754, -0.19257754, -0.19257754, -0.19257754,\n",
              "       -0.19257754, -0.19257754, -0.19257754, -0.19257754, -0.19257754,\n",
              "       -0.19257754, -0.19257754, -0.19257754, -0.19257754, -0.19257754,\n",
              "       -0.19257754, -0.19257754, -0.19257754, -0.19257754])"
            ]
          },
          "metadata": {},
          "execution_count": 35
        }
      ]
    }
  ]
}